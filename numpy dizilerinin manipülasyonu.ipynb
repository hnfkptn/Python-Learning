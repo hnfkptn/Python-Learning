{
 "cells": [
  {
   "cell_type": "code",
   "execution_count": 1,
   "id": "ff95e4be",
   "metadata": {},
   "outputs": [],
   "source": [
    "### verilerle çalışırken numpy dizilerini yeniden düzenlemek ve şeklini değiştirmek önemlidir.\n",
    "#numpy kütüphanesinin bu manipülalasyonlar için zengin bir fonksiyon listesi vardır."
   ]
  },
  {
   "cell_type": "code",
   "execution_count": 2,
   "id": "b9075a9c",
   "metadata": {},
   "outputs": [],
   "source": [
    "import numpy as np"
   ]
  },
  {
   "cell_type": "code",
   "execution_count": 3,
   "id": "747fcabf",
   "metadata": {},
   "outputs": [],
   "source": [
    "#append()\n",
    "#numpy dizisine yeni eleman ekler ve yeni bir numpy dizisi oluşturur."
   ]
  },
  {
   "cell_type": "code",
   "execution_count": 4,
   "id": "57f9500f",
   "metadata": {},
   "outputs": [],
   "source": [
    "veri = np.array([1,2,3])"
   ]
  },
  {
   "cell_type": "code",
   "execution_count": 5,
   "id": "81f1b4c3",
   "metadata": {},
   "outputs": [
    {
     "data": {
      "text/plain": [
       "array([1, 2, 3])"
      ]
     },
     "execution_count": 5,
     "metadata": {},
     "output_type": "execute_result"
    }
   ],
   "source": [
    "veri"
   ]
  },
  {
   "cell_type": "code",
   "execution_count": 6,
   "id": "76c58264",
   "metadata": {},
   "outputs": [],
   "source": [
    "yeniVeri = np.append(veri,[4,5])"
   ]
  },
  {
   "cell_type": "code",
   "execution_count": 7,
   "id": "5e703606",
   "metadata": {},
   "outputs": [
    {
     "data": {
      "text/plain": [
       "array([1, 2, 3, 4, 5])"
      ]
     },
     "execution_count": 7,
     "metadata": {},
     "output_type": "execute_result"
    }
   ],
   "source": [
    "yeniVeri"
   ]
  },
  {
   "cell_type": "code",
   "execution_count": 8,
   "id": "a688c222",
   "metadata": {},
   "outputs": [],
   "source": [
    "#delete()\n",
    "#numpy dizisinde belirli bir konumdaki bir öğeyi indeks bilgisi ile siler."
   ]
  },
  {
   "cell_type": "code",
   "execution_count": 9,
   "id": "158f2337",
   "metadata": {},
   "outputs": [],
   "source": [
    "yeniVeri = np.delete(veri,0)"
   ]
  },
  {
   "cell_type": "code",
   "execution_count": 10,
   "id": "b290e03f",
   "metadata": {},
   "outputs": [
    {
     "data": {
      "text/plain": [
       "array([2, 3])"
      ]
     },
     "execution_count": 10,
     "metadata": {},
     "output_type": "execute_result"
    }
   ],
   "source": [
    "yeniVeri"
   ]
  },
  {
   "cell_type": "code",
   "execution_count": 11,
   "id": "1dd1b90b",
   "metadata": {},
   "outputs": [],
   "source": [
    "#ndarray.transpose()\n",
    "#numpy dizisinin transpozunu alır. transpozunu almak, satır ile sütunların yer değiştirmesidir."
   ]
  },
  {
   "cell_type": "code",
   "execution_count": 13,
   "id": "0611904d",
   "metadata": {},
   "outputs": [],
   "source": [
    "veri = np.array([[1,2,3],[4,5,6]])"
   ]
  },
  {
   "cell_type": "code",
   "execution_count": 14,
   "id": "442960fc",
   "metadata": {},
   "outputs": [
    {
     "data": {
      "text/plain": [
       "array([[1, 2, 3],\n",
       "       [4, 5, 6]])"
      ]
     },
     "execution_count": 14,
     "metadata": {},
     "output_type": "execute_result"
    }
   ],
   "source": [
    "veri"
   ]
  },
  {
   "cell_type": "code",
   "execution_count": 15,
   "id": "dcc715e2",
   "metadata": {},
   "outputs": [
    {
     "data": {
      "text/plain": [
       "(2, 3)"
      ]
     },
     "execution_count": 15,
     "metadata": {},
     "output_type": "execute_result"
    }
   ],
   "source": [
    "veri.shape #2 satır 3 sütun"
   ]
  },
  {
   "cell_type": "code",
   "execution_count": 16,
   "id": "5dd682a1",
   "metadata": {},
   "outputs": [],
   "source": [
    "yeniVeri = np.ndarray.transpose(veri)"
   ]
  },
  {
   "cell_type": "code",
   "execution_count": 17,
   "id": "7fe31fd7",
   "metadata": {},
   "outputs": [
    {
     "data": {
      "text/plain": [
       "array([[1, 4],\n",
       "       [2, 5],\n",
       "       [3, 6]])"
      ]
     },
     "execution_count": 17,
     "metadata": {},
     "output_type": "execute_result"
    }
   ],
   "source": [
    "yeniVeri"
   ]
  },
  {
   "cell_type": "code",
   "execution_count": 18,
   "id": "1b6f896a",
   "metadata": {},
   "outputs": [
    {
     "data": {
      "text/plain": [
       "(3, 2)"
      ]
     },
     "execution_count": 18,
     "metadata": {},
     "output_type": "execute_result"
    }
   ],
   "source": [
    "yeniVeri.shape"
   ]
  },
  {
   "cell_type": "code",
   "execution_count": 19,
   "id": "5319aac2",
   "metadata": {},
   "outputs": [],
   "source": [
    "#ndarray.reshape()\n",
    "#bir numpy dizisinin elemanlarını değiştirmeden boyutunu değiştirir."
   ]
  },
  {
   "cell_type": "code",
   "execution_count": 20,
   "id": "a60e0173",
   "metadata": {},
   "outputs": [],
   "source": [
    "veri = np.array([1,2,3,4,5,6])"
   ]
  },
  {
   "cell_type": "code",
   "execution_count": 21,
   "id": "fbf05aa9",
   "metadata": {},
   "outputs": [
    {
     "data": {
      "text/plain": [
       "array([1, 2, 3, 4, 5, 6])"
      ]
     },
     "execution_count": 21,
     "metadata": {},
     "output_type": "execute_result"
    }
   ],
   "source": [
    "veri"
   ]
  },
  {
   "cell_type": "code",
   "execution_count": 22,
   "id": "f66d4ebe",
   "metadata": {},
   "outputs": [
    {
     "data": {
      "text/plain": [
       "(6,)"
      ]
     },
     "execution_count": 22,
     "metadata": {},
     "output_type": "execute_result"
    }
   ],
   "source": [
    "veri.shape #1 satır 6 sütun"
   ]
  },
  {
   "cell_type": "code",
   "execution_count": 23,
   "id": "53d64c2e",
   "metadata": {},
   "outputs": [],
   "source": [
    "yeniVeri = np.ndarray.reshape(veri,(2,3))"
   ]
  },
  {
   "cell_type": "code",
   "execution_count": 24,
   "id": "42a8012e",
   "metadata": {},
   "outputs": [
    {
     "data": {
      "text/plain": [
       "array([[1, 2, 3],\n",
       "       [4, 5, 6]])"
      ]
     },
     "execution_count": 24,
     "metadata": {},
     "output_type": "execute_result"
    }
   ],
   "source": [
    "yeniVeri"
   ]
  },
  {
   "cell_type": "code",
   "execution_count": 25,
   "id": "0dd3defa",
   "metadata": {},
   "outputs": [
    {
     "data": {
      "text/plain": [
       "(2, 3)"
      ]
     },
     "execution_count": 25,
     "metadata": {},
     "output_type": "execute_result"
    }
   ],
   "source": [
    "yeniVeri.shape #2 satır 3 sütun"
   ]
  },
  {
   "cell_type": "code",
   "execution_count": 26,
   "id": "ce2fbb69",
   "metadata": {},
   "outputs": [],
   "source": [
    "yeniVeri = np.ndarray.reshape(yeniVeri,(6,1))"
   ]
  },
  {
   "cell_type": "code",
   "execution_count": 27,
   "id": "3e4bc669",
   "metadata": {},
   "outputs": [
    {
     "data": {
      "text/plain": [
       "array([[1],\n",
       "       [2],\n",
       "       [3],\n",
       "       [4],\n",
       "       [5],\n",
       "       [6]])"
      ]
     },
     "execution_count": 27,
     "metadata": {},
     "output_type": "execute_result"
    }
   ],
   "source": [
    "yeniVeri"
   ]
  },
  {
   "cell_type": "code",
   "execution_count": 28,
   "id": "6b21e82a",
   "metadata": {},
   "outputs": [
    {
     "data": {
      "text/plain": [
       "(6, 1)"
      ]
     },
     "execution_count": 28,
     "metadata": {},
     "output_type": "execute_result"
    }
   ],
   "source": [
    "yeniVeri.shape #6 satır 1 sütun"
   ]
  },
  {
   "cell_type": "code",
   "execution_count": 29,
   "id": "223396a3",
   "metadata": {},
   "outputs": [],
   "source": [
    "#ndarray.flatten()\n",
    "#bir numpy dizisini tek boyuta indirger. ndarray.reshape() fonksiyonunun özel bir hali gibidir."
   ]
  },
  {
   "cell_type": "code",
   "execution_count": 30,
   "id": "90315548",
   "metadata": {},
   "outputs": [],
   "source": [
    "veri = np.array([[1,2,3],[4,5,6]])"
   ]
  },
  {
   "cell_type": "code",
   "execution_count": 31,
   "id": "758c5eaf",
   "metadata": {},
   "outputs": [
    {
     "data": {
      "text/plain": [
       "array([[1, 2, 3],\n",
       "       [4, 5, 6]])"
      ]
     },
     "execution_count": 31,
     "metadata": {},
     "output_type": "execute_result"
    }
   ],
   "source": [
    "veri"
   ]
  },
  {
   "cell_type": "code",
   "execution_count": 32,
   "id": "61fcc32b",
   "metadata": {},
   "outputs": [],
   "source": [
    "yeniVeri = np.ndarray.flatten(veri)"
   ]
  },
  {
   "cell_type": "code",
   "execution_count": 33,
   "id": "d4aa0edf",
   "metadata": {},
   "outputs": [
    {
     "data": {
      "text/plain": [
       "array([1, 2, 3, 4, 5, 6])"
      ]
     },
     "execution_count": 33,
     "metadata": {},
     "output_type": "execute_result"
    }
   ],
   "source": [
    "yeniVeri"
   ]
  },
  {
   "cell_type": "code",
   "execution_count": 34,
   "id": "ad391f22",
   "metadata": {},
   "outputs": [],
   "source": [
    "#concatenate()\n",
    "#belli bir eksen boyunca dizileri birbiri ardına ekleyerek yeni bir dizi oluşturur"
   ]
  },
  {
   "cell_type": "code",
   "execution_count": 35,
   "id": "0224d824",
   "metadata": {},
   "outputs": [],
   "source": [
    "a = np.array([[1,2],[3,4]])\n",
    "b = np.array([[5,6],[7,8]])"
   ]
  },
  {
   "cell_type": "code",
   "execution_count": 36,
   "id": "ee7f71e6",
   "metadata": {},
   "outputs": [
    {
     "data": {
      "text/plain": [
       "array([[1, 2],\n",
       "       [3, 4]])"
      ]
     },
     "execution_count": 36,
     "metadata": {},
     "output_type": "execute_result"
    }
   ],
   "source": [
    "a"
   ]
  },
  {
   "cell_type": "code",
   "execution_count": 37,
   "id": "4aab41cf",
   "metadata": {},
   "outputs": [
    {
     "data": {
      "text/plain": [
       "array([[5, 6],\n",
       "       [7, 8]])"
      ]
     },
     "execution_count": 37,
     "metadata": {},
     "output_type": "execute_result"
    }
   ],
   "source": [
    "b"
   ]
  },
  {
   "cell_type": "code",
   "execution_count": 38,
   "id": "9a7c055c",
   "metadata": {},
   "outputs": [],
   "source": [
    "c = np.concatenate((a,b),axis=0)\n",
    "d = np.concatenate((a,b),axis=1)"
   ]
  },
  {
   "cell_type": "code",
   "execution_count": 39,
   "id": "5309ee4e",
   "metadata": {},
   "outputs": [
    {
     "data": {
      "text/plain": [
       "array([[1, 2],\n",
       "       [3, 4],\n",
       "       [5, 6],\n",
       "       [7, 8]])"
      ]
     },
     "execution_count": 39,
     "metadata": {},
     "output_type": "execute_result"
    }
   ],
   "source": [
    "c"
   ]
  },
  {
   "cell_type": "code",
   "execution_count": 40,
   "id": "9c2cff6b",
   "metadata": {},
   "outputs": [
    {
     "data": {
      "text/plain": [
       "array([[1, 2, 5, 6],\n",
       "       [3, 4, 7, 8]])"
      ]
     },
     "execution_count": 40,
     "metadata": {},
     "output_type": "execute_result"
    }
   ],
   "source": [
    "d"
   ]
  },
  {
   "cell_type": "code",
   "execution_count": 41,
   "id": "02d5fa19",
   "metadata": {},
   "outputs": [],
   "source": [
    "#vstack()\n",
    "#dikey olarak numpy dizilerini yığınlar. dizileri  alt alta birleştirir."
   ]
  },
  {
   "cell_type": "code",
   "execution_count": 66,
   "id": "7abed398",
   "metadata": {},
   "outputs": [],
   "source": [
    "#dizileri alt alta birleştireceği için dizilerin sütun sayıları aynı olmalıdır.\n",
    "a = np.array([[1,2,3],[5,6,7]])\n",
    "b = np.array([10,20,30])"
   ]
  },
  {
   "cell_type": "code",
   "execution_count": 67,
   "id": "33e77d51",
   "metadata": {},
   "outputs": [
    {
     "data": {
      "text/plain": [
       "array([[1, 2, 3],\n",
       "       [5, 6, 7]])"
      ]
     },
     "execution_count": 67,
     "metadata": {},
     "output_type": "execute_result"
    }
   ],
   "source": [
    "a"
   ]
  },
  {
   "cell_type": "code",
   "execution_count": 68,
   "id": "b100df82",
   "metadata": {},
   "outputs": [
    {
     "data": {
      "text/plain": [
       "array([10, 20, 30])"
      ]
     },
     "execution_count": 68,
     "metadata": {},
     "output_type": "execute_result"
    }
   ],
   "source": [
    "b"
   ]
  },
  {
   "cell_type": "code",
   "execution_count": 69,
   "id": "f3c6b51e",
   "metadata": {},
   "outputs": [],
   "source": [
    "c = np.vstack((a,b))"
   ]
  },
  {
   "cell_type": "code",
   "execution_count": 70,
   "id": "137be00d",
   "metadata": {},
   "outputs": [
    {
     "data": {
      "text/plain": [
       "array([[ 1,  2,  3],\n",
       "       [ 5,  6,  7],\n",
       "       [10, 20, 30]])"
      ]
     },
     "execution_count": 70,
     "metadata": {},
     "output_type": "execute_result"
    }
   ],
   "source": [
    "c"
   ]
  },
  {
   "cell_type": "code",
   "execution_count": 71,
   "id": "2d8aabbb",
   "metadata": {},
   "outputs": [],
   "source": [
    "#hstack()\n",
    "#yatay olarak dizileri yığınlar. dizileri yan yana birleştirir."
   ]
  },
  {
   "cell_type": "code",
   "execution_count": 72,
   "id": "1f9ecd85",
   "metadata": {},
   "outputs": [],
   "source": [
    "#dizileri yan yana birleştireceğinden dizilerin satır sayıları aynı olmalıdır.\n",
    "a = np.array([1,2,3,4])\n",
    "b = np.array([10,20,30])"
   ]
  },
  {
   "cell_type": "code",
   "execution_count": 73,
   "id": "7eb5609b",
   "metadata": {},
   "outputs": [
    {
     "data": {
      "text/plain": [
       "array([1, 2, 3, 4])"
      ]
     },
     "execution_count": 73,
     "metadata": {},
     "output_type": "execute_result"
    }
   ],
   "source": [
    "a"
   ]
  },
  {
   "cell_type": "code",
   "execution_count": 74,
   "id": "e15ef1a6",
   "metadata": {},
   "outputs": [
    {
     "data": {
      "text/plain": [
       "array([10, 20, 30])"
      ]
     },
     "execution_count": 74,
     "metadata": {},
     "output_type": "execute_result"
    }
   ],
   "source": [
    "b"
   ]
  },
  {
   "cell_type": "code",
   "execution_count": 76,
   "id": "ececfa9b",
   "metadata": {
    "scrolled": true
   },
   "outputs": [],
   "source": [
    "c = np.hstack((a,b))"
   ]
  },
  {
   "cell_type": "code",
   "execution_count": 77,
   "id": "53675706",
   "metadata": {},
   "outputs": [
    {
     "data": {
      "text/plain": [
       "array([ 1,  2,  3,  4, 10, 20, 30])"
      ]
     },
     "execution_count": 77,
     "metadata": {},
     "output_type": "execute_result"
    }
   ],
   "source": [
    "c"
   ]
  }
 ],
 "metadata": {
  "kernelspec": {
   "display_name": "Python 3 (ipykernel)",
   "language": "python",
   "name": "python3"
  },
  "language_info": {
   "codemirror_mode": {
    "name": "ipython",
    "version": 3
   },
   "file_extension": ".py",
   "mimetype": "text/x-python",
   "name": "python",
   "nbconvert_exporter": "python",
   "pygments_lexer": "ipython3",
   "version": "3.10.9"
  }
 },
 "nbformat": 4,
 "nbformat_minor": 5
}
