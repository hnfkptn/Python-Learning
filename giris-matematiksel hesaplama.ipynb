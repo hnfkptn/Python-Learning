{
 "cells": [
  {
   "cell_type": "code",
   "execution_count": null,
   "id": "397e209d",
   "metadata": {},
   "outputs": [],
   "source": [
    "import numpy as np"
   ]
  },
  {
   "cell_type": "code",
   "execution_count": null,
   "id": "1e4739b8",
   "metadata": {},
   "outputs": [],
   "source": [
    "np.__version #numpy sürümünü yazdıran özellik"
   ]
  },
  {
   "cell_type": "code",
   "execution_count": null,
   "id": "55810bdf",
   "metadata": {},
   "outputs": [],
   "source": [
    "veri = np.array([3,4,5],[5,12,13]) #dizi oluşturduk\n",
    "veri #iki boyutlu dizidir."
   ]
  },
  {
   "cell_type": "code",
   "execution_count": null,
   "id": "cbcf7fdf",
   "metadata": {},
   "outputs": [],
   "source": [
    "type(veri) #elimizdeki nesnenin tipini öğrenmek için kullanılan fonksiyon"
   ]
  },
  {
   "cell_type": "code",
   "execution_count": null,
   "id": "ebd1e393",
   "metadata": {},
   "outputs": [],
   "source": [
    "veri.ndim #nesnenin kaç boyutlu olduğunu öğrenmek için kullanılan özellik"
   ]
  },
  {
   "cell_type": "code",
   "execution_count": null,
   "id": "3ce001f0",
   "metadata": {},
   "outputs": [],
   "source": [
    "veri.shape #nesnenin boyutlarının uzunluğuna bakmak için kullanılan özellik\n",
    "#bu örnek için çıktı (2,3)'tür. (satır,sütun) şeklindedir."
   ]
  },
  {
   "cell_type": "code",
   "execution_count": null,
   "id": "d828243d",
   "metadata": {},
   "outputs": [],
   "source": [
    "veri.dtype #nesnenin içerdiği elementlerin tipini öğrenmek için kullanılan özellik"
   ]
  }
 ],
 "metadata": {
  "kernelspec": {
   "display_name": "Python 3 (ipykernel)",
   "language": "python",
   "name": "python3"
  },
  "language_info": {
   "codemirror_mode": {
    "name": "ipython",
    "version": 3
   },
   "file_extension": ".py",
   "mimetype": "text/x-python",
   "name": "python",
   "nbconvert_exporter": "python",
   "pygments_lexer": "ipython3",
   "version": "3.10.9"
  }
 },
 "nbformat": 4,
 "nbformat_minor": 5
}
