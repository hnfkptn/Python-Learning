{
 "cells": [
  {
   "cell_type": "code",
   "execution_count": 1,
   "id": "57d0ca1b",
   "metadata": {},
   "outputs": [],
   "source": [
    "#pandas çerçevelerin oluşturmak için sıklıkla kullanılan 2 yol vardır.\n",
    "#bunların ilki numpy kütüphanesinin sunduğu fonk.lar kullanılarak oluşturulan dizinin pandas fonk.ları ile kullanılmasıdır.\n",
    "#diğeri ise python dilinin sağlamış olduğu dict. veri yapısını pandas fonk.larında kullanmaktır."
   ]
  },
  {
   "cell_type": "code",
   "execution_count": 2,
   "id": "20586ac4",
   "metadata": {},
   "outputs": [],
   "source": [
    "import numpy as np\n",
    "import pandas as pd"
   ]
  },
  {
   "cell_type": "code",
   "execution_count": 3,
   "id": "57829f4b",
   "metadata": {},
   "outputs": [],
   "source": [
    "#NUMPY DİZİLERİNDEN PANDAS VERİ ÇERÇEVESİ OLUŞTURMA"
   ]
  },
  {
   "cell_type": "code",
   "execution_count": 5,
   "id": "b3899d9b",
   "metadata": {},
   "outputs": [],
   "source": [
    "veri = np.array([[\"ali\",3.45],[\"ayşe\",2.35],[\"deniz\",4.20]]) #veri çerçevesinin değerleri\n",
    "sutunIsimleri = ([\"isimler\",\"ücret\"]) #sütun isimleri\n",
    "df = pd.DataFrame(veri,columns=sutunIsimleri) #veri çerçevesi oluşturduk"
   ]
  },
  {
   "cell_type": "code",
   "execution_count": 6,
   "id": "8e1f5214",
   "metadata": {},
   "outputs": [
    {
     "data": {
      "text/html": [
       "<div>\n",
       "<style scoped>\n",
       "    .dataframe tbody tr th:only-of-type {\n",
       "        vertical-align: middle;\n",
       "    }\n",
       "\n",
       "    .dataframe tbody tr th {\n",
       "        vertical-align: top;\n",
       "    }\n",
       "\n",
       "    .dataframe thead th {\n",
       "        text-align: right;\n",
       "    }\n",
       "</style>\n",
       "<table border=\"1\" class=\"dataframe\">\n",
       "  <thead>\n",
       "    <tr style=\"text-align: right;\">\n",
       "      <th></th>\n",
       "      <th>isimler</th>\n",
       "      <th>ücret</th>\n",
       "    </tr>\n",
       "  </thead>\n",
       "  <tbody>\n",
       "    <tr>\n",
       "      <th>0</th>\n",
       "      <td>ali</td>\n",
       "      <td>3.45</td>\n",
       "    </tr>\n",
       "    <tr>\n",
       "      <th>1</th>\n",
       "      <td>ayşe</td>\n",
       "      <td>2.35</td>\n",
       "    </tr>\n",
       "    <tr>\n",
       "      <th>2</th>\n",
       "      <td>deniz</td>\n",
       "      <td>4.2</td>\n",
       "    </tr>\n",
       "  </tbody>\n",
       "</table>\n",
       "</div>"
      ],
      "text/plain": [
       "  isimler ücret\n",
       "0     ali  3.45\n",
       "1    ayşe  2.35\n",
       "2   deniz   4.2"
      ]
     },
     "execution_count": 6,
     "metadata": {},
     "output_type": "execute_result"
    }
   ],
   "source": [
    "df"
   ]
  },
  {
   "cell_type": "code",
   "execution_count": 7,
   "id": "0e4067a4",
   "metadata": {},
   "outputs": [],
   "source": [
    "#SÖZLÜK YAPILARINDAN PANDAS VERİ ÇERÇEVESİ OLUŞTURMA"
   ]
  },
  {
   "cell_type": "code",
   "execution_count": 8,
   "id": "70c3c88a",
   "metadata": {},
   "outputs": [],
   "source": [
    "veri = {\"isimler\":[\"ali\",\"ayşe\",\"deniz\"],\"ücret\":[3.45,2.35,4.20]} #key sütun ismi, value değerlerdir."
   ]
  },
  {
   "cell_type": "code",
   "execution_count": 10,
   "id": "b077309c",
   "metadata": {},
   "outputs": [],
   "source": [
    "df = pd.DataFrame(veri) #veri çerçevesi oluşturduk"
   ]
  },
  {
   "cell_type": "code",
   "execution_count": 11,
   "id": "c272d985",
   "metadata": {},
   "outputs": [
    {
     "data": {
      "text/html": [
       "<div>\n",
       "<style scoped>\n",
       "    .dataframe tbody tr th:only-of-type {\n",
       "        vertical-align: middle;\n",
       "    }\n",
       "\n",
       "    .dataframe tbody tr th {\n",
       "        vertical-align: top;\n",
       "    }\n",
       "\n",
       "    .dataframe thead th {\n",
       "        text-align: right;\n",
       "    }\n",
       "</style>\n",
       "<table border=\"1\" class=\"dataframe\">\n",
       "  <thead>\n",
       "    <tr style=\"text-align: right;\">\n",
       "      <th></th>\n",
       "      <th>isimler</th>\n",
       "      <th>ücret</th>\n",
       "    </tr>\n",
       "  </thead>\n",
       "  <tbody>\n",
       "    <tr>\n",
       "      <th>0</th>\n",
       "      <td>ali</td>\n",
       "      <td>3.45</td>\n",
       "    </tr>\n",
       "    <tr>\n",
       "      <th>1</th>\n",
       "      <td>ayşe</td>\n",
       "      <td>2.35</td>\n",
       "    </tr>\n",
       "    <tr>\n",
       "      <th>2</th>\n",
       "      <td>deniz</td>\n",
       "      <td>4.20</td>\n",
       "    </tr>\n",
       "  </tbody>\n",
       "</table>\n",
       "</div>"
      ],
      "text/plain": [
       "  isimler  ücret\n",
       "0     ali   3.45\n",
       "1    ayşe   2.35\n",
       "2   deniz   4.20"
      ]
     },
     "execution_count": 11,
     "metadata": {},
     "output_type": "execute_result"
    }
   ],
   "source": [
    "df"
   ]
  }
 ],
 "metadata": {
  "kernelspec": {
   "display_name": "Python 3 (ipykernel)",
   "language": "python",
   "name": "python3"
  },
  "language_info": {
   "codemirror_mode": {
    "name": "ipython",
    "version": 3
   },
   "file_extension": ".py",
   "mimetype": "text/x-python",
   "name": "python",
   "nbconvert_exporter": "python",
   "pygments_lexer": "ipython3",
   "version": "3.10.9"
  }
 },
 "nbformat": 4,
 "nbformat_minor": 5
}
