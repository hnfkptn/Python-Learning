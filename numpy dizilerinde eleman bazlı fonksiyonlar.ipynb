{
 "cells": [
  {
   "cell_type": "code",
   "execution_count": 2,
   "id": "90c01599",
   "metadata": {},
   "outputs": [],
   "source": [
    "#bu fonksiyonlar, eleman olarak verilen numpy dizisine uygulandıklarında aynı boyuta sahip yeni bir dizi döndürür.\n",
    "#bu fonksiyonlar, girdi dizisindeeki bütün elementlere ayrı ayrı uygulanır."
   ]
  },
  {
   "cell_type": "code",
   "execution_count": 3,
   "id": "04f6f6d5",
   "metadata": {},
   "outputs": [],
   "source": [
    "import numpy as np"
   ]
  },
  {
   "cell_type": "code",
   "execution_count": 4,
   "id": "0373ae18",
   "metadata": {},
   "outputs": [],
   "source": [
    "a = np.array([4,16,64])"
   ]
  },
  {
   "cell_type": "code",
   "execution_count": 5,
   "id": "5414f09e",
   "metadata": {},
   "outputs": [
    {
     "data": {
      "text/plain": [
       "array([5.45981500e+01, 8.88611052e+06, 6.23514908e+27])"
      ]
     },
     "execution_count": 5,
     "metadata": {},
     "output_type": "execute_result"
    }
   ],
   "source": [
    "#exp()\n",
    "#üstel hesaplar\n",
    "np.exp(a)"
   ]
  },
  {
   "cell_type": "code",
   "execution_count": 6,
   "id": "15266ae9",
   "metadata": {},
   "outputs": [
    {
     "data": {
      "text/plain": [
       "array([2., 4., 8.])"
      ]
     },
     "execution_count": 6,
     "metadata": {},
     "output_type": "execute_result"
    }
   ],
   "source": [
    "#sqrt()\n",
    "#karekök hesaplar\n",
    "np.sqrt(a)"
   ]
  },
  {
   "cell_type": "code",
   "execution_count": 7,
   "id": "b7af0528",
   "metadata": {},
   "outputs": [
    {
     "data": {
      "text/plain": [
       "array([1.38629436, 2.77258872, 4.15888308])"
      ]
     },
     "execution_count": 7,
     "metadata": {},
     "output_type": "execute_result"
    }
   ],
   "source": [
    "#log()\n",
    "#e tabanında logaritma hesaplar\n",
    "np.log(a)"
   ]
  },
  {
   "cell_type": "code",
   "execution_count": 8,
   "id": "798eb51b",
   "metadata": {},
   "outputs": [
    {
     "data": {
      "text/plain": [
       "array([-0.65364362, -0.95765948,  0.39185723])"
      ]
     },
     "execution_count": 8,
     "metadata": {},
     "output_type": "execute_result"
    }
   ],
   "source": [
    "#cos()\n",
    "#radyan cinsinden kosinüs hesabı yapar\n",
    "np.cos(a)"
   ]
  },
  {
   "cell_type": "code",
   "execution_count": 9,
   "id": "1f34a5c7",
   "metadata": {},
   "outputs": [
    {
     "data": {
      "text/plain": [
       "array([-0.7568025 , -0.28790332,  0.92002604])"
      ]
     },
     "execution_count": 9,
     "metadata": {},
     "output_type": "execute_result"
    }
   ],
   "source": [
    "#sin()\n",
    "#radyan cinsinden sinüs hesabı yapar\n",
    "np.sin(a)"
   ]
  },
  {
   "cell_type": "code",
   "execution_count": 10,
   "id": "68322a8e",
   "metadata": {},
   "outputs": [
    {
     "data": {
      "text/plain": [
       "array([1.15782128, 0.30063224, 2.34786031])"
      ]
     },
     "execution_count": 10,
     "metadata": {},
     "output_type": "execute_result"
    }
   ],
   "source": [
    "np.tan(a)"
   ]
  },
  {
   "cell_type": "code",
   "execution_count": null,
   "id": "9e7a1295",
   "metadata": {},
   "outputs": [],
   "source": [
    "#matematiksel fonksiyonlar için math sınıfına daha ayrıntılı bakılabilir."
   ]
  }
 ],
 "metadata": {
  "kernelspec": {
   "display_name": "Python 3 (ipykernel)",
   "language": "python",
   "name": "python3"
  },
  "language_info": {
   "codemirror_mode": {
    "name": "ipython",
    "version": 3
   },
   "file_extension": ".py",
   "mimetype": "text/x-python",
   "name": "python",
   "nbconvert_exporter": "python",
   "pygments_lexer": "ipython3",
   "version": "3.10.9"
  }
 },
 "nbformat": 4,
 "nbformat_minor": 5
}
