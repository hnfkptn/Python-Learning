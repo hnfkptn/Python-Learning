{
 "cells": [
  {
   "cell_type": "code",
   "execution_count": 35,
   "id": "f9d36ae3",
   "metadata": {},
   "outputs": [],
   "source": [
    "#numpy ile oluşturulan diziler homojen olmak zorundandır. homojen demek dizi içindeki bütün verilerin aynı tipte olmasıdır.\n",
    "#veri tipleri tamsayılar, işaretsiz tamsayılar,mantıksal ifadeler, ondalıklı sayılar ve karmaşık sayılardır."
   ]
  },
  {
   "cell_type": "code",
   "execution_count": 36,
   "id": "02a3252b",
   "metadata": {},
   "outputs": [],
   "source": [
    "import numpy as np #eğer çalıştırmaya bu satırdan başlamazsak çalışırken \"np\" tanımlı değildir uyarısı alırız."
   ]
  },
  {
   "cell_type": "code",
   "execution_count": 37,
   "id": "8929689d",
   "metadata": {},
   "outputs": [],
   "source": [
    "#TAMSAYILAR (en sık kullanılan tam sayı formları int16, int32, int64'tür)\n",
    "a = np.array([100,200,300],dtype=int) #dizileri kare parentez içinde yazarız"
   ]
  },
  {
   "cell_type": "code",
   "execution_count": 38,
   "id": "8778f5f8",
   "metadata": {},
   "outputs": [
    {
     "data": {
      "text/plain": [
       "array([100, 200, 300])"
      ]
     },
     "execution_count": 38,
     "metadata": {},
     "output_type": "execute_result"
    }
   ],
   "source": [
    "a"
   ]
  },
  {
   "cell_type": "code",
   "execution_count": 39,
   "id": "2cdd17e5",
   "metadata": {},
   "outputs": [
    {
     "data": {
      "text/plain": [
       "dtype('int32')"
      ]
     },
     "execution_count": 39,
     "metadata": {},
     "output_type": "execute_result"
    }
   ],
   "source": [
    "a.dtype"
   ]
  },
  {
   "cell_type": "code",
   "execution_count": 40,
   "id": "6e378013",
   "metadata": {},
   "outputs": [],
   "source": [
    "#İŞARETSİZ TAMSAYILAR\n",
    "#eğer veri setinde negatif tamsayı içeren bir veri yoksa bu formatı kullanabiliriz\n",
    "#en sık kullanılan işaretsiz tamsayı formları uint8, uint16, uint32, uint64'tür.\n",
    "#bu formatı günlük hayattaki verilerimizle pek uyuşmadığı için sık kullanmayız. (özellikle görselleştirme için)"
   ]
  },
  {
   "cell_type": "code",
   "execution_count": 41,
   "id": "cf7b7c74",
   "metadata": {},
   "outputs": [],
   "source": [
    "#MANTIKSAL İFADELER (true ve false ifadeleridir)\n",
    "a = np.array([-1,0,1],dtype=bool)"
   ]
  },
  {
   "cell_type": "code",
   "execution_count": 42,
   "id": "11b03905",
   "metadata": {},
   "outputs": [
    {
     "data": {
      "text/plain": [
       "array([ True, False,  True])"
      ]
     },
     "execution_count": 42,
     "metadata": {},
     "output_type": "execute_result"
    }
   ],
   "source": [
    "a"
   ]
  },
  {
   "cell_type": "code",
   "execution_count": 43,
   "id": "38d42d8c",
   "metadata": {},
   "outputs": [
    {
     "data": {
      "text/plain": [
       "dtype('bool')"
      ]
     },
     "execution_count": 43,
     "metadata": {},
     "output_type": "execute_result"
    }
   ],
   "source": [
    "a.dtype"
   ]
  },
  {
   "cell_type": "code",
   "execution_count": 44,
   "id": "dd76efad",
   "metadata": {},
   "outputs": [],
   "source": [
    "#ONDALIKLI SAYILAR\n",
    "#ondalıklı sayı içeren veri setleri için kullanılır.\n",
    "#en sık kullanılan işaretsiz ondalıklı sayı formları float16, float32, float64, float128'dir.\n",
    "a = np.array([100,200,300],dtype=float)"
   ]
  },
  {
   "cell_type": "code",
   "execution_count": 45,
   "id": "59545dc6",
   "metadata": {},
   "outputs": [
    {
     "data": {
      "text/plain": [
       "array([100., 200., 300.])"
      ]
     },
     "execution_count": 45,
     "metadata": {},
     "output_type": "execute_result"
    }
   ],
   "source": [
    "a"
   ]
  },
  {
   "cell_type": "code",
   "execution_count": 46,
   "id": "1dd7c157",
   "metadata": {},
   "outputs": [
    {
     "data": {
      "text/plain": [
       "dtype('float64')"
      ]
     },
     "execution_count": 46,
     "metadata": {},
     "output_type": "execute_result"
    }
   ],
   "source": [
    "a.dtype"
   ]
  },
  {
   "cell_type": "code",
   "execution_count": 47,
   "id": "8a276deb",
   "metadata": {},
   "outputs": [],
   "source": [
    "#KARMAŞIK SAYILAR\n",
    "#a + b.j şeklindeki sayılardır\n",
    "a = np.array([-1,0,1],dtype=complex) #imajiner değeri belirtmediğimiz için 0 varsayılan değerini alır."
   ]
  },
  {
   "cell_type": "code",
   "execution_count": 48,
   "id": "a7b79bea",
   "metadata": {},
   "outputs": [
    {
     "data": {
      "text/plain": [
       "array([-1.,  0.,  1.])"
      ]
     },
     "execution_count": 48,
     "metadata": {},
     "output_type": "execute_result"
    }
   ],
   "source": [
    "a.real #a dizisindeki ifadelerin gerçek kısımları"
   ]
  },
  {
   "cell_type": "code",
   "execution_count": 49,
   "id": "72fc2e88",
   "metadata": {},
   "outputs": [
    {
     "data": {
      "text/plain": [
       "array([0., 0., 0.])"
      ]
     },
     "execution_count": 49,
     "metadata": {},
     "output_type": "execute_result"
    }
   ],
   "source": [
    "a.imag# a dizisindeki ifadelerin sanal(imajiner) kısımları"
   ]
  },
  {
   "cell_type": "code",
   "execution_count": 50,
   "id": "131265bb",
   "metadata": {},
   "outputs": [
    {
     "data": {
      "text/plain": [
       "array([-1.+0.j,  0.+0.j,  1.+0.j])"
      ]
     },
     "execution_count": 50,
     "metadata": {},
     "output_type": "execute_result"
    }
   ],
   "source": [
    "a"
   ]
  },
  {
   "cell_type": "code",
   "execution_count": 51,
   "id": "dcb869fd",
   "metadata": {},
   "outputs": [
    {
     "data": {
      "text/plain": [
       "dtype('complex128')"
      ]
     },
     "execution_count": 51,
     "metadata": {},
     "output_type": "execute_result"
    }
   ],
   "source": [
    "a.dtype"
   ]
  }
 ],
 "metadata": {
  "kernelspec": {
   "display_name": "Python 3 (ipykernel)",
   "language": "python",
   "name": "python3"
  },
  "language_info": {
   "codemirror_mode": {
    "name": "ipython",
    "version": 3
   },
   "file_extension": ".py",
   "mimetype": "text/x-python",
   "name": "python",
   "nbconvert_exporter": "python",
   "pygments_lexer": "ipython3",
   "version": "3.10.9"
  }
 },
 "nbformat": 4,
 "nbformat_minor": 5
}
