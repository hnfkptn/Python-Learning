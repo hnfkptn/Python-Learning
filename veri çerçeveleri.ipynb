{
 "cells": [
  {
   "cell_type": "code",
   "execution_count": 2,
   "id": "143953f0",
   "metadata": {},
   "outputs": [],
   "source": [
    "#veri çerçevesi 2 boyutlu, sql tablosu benzeri bir veri yapısıdır.\n",
    "#veri çerçeveleri, seri tipinde olan farklı sütun türlerine sahip olurlar.\n",
    "#pandas kütüphanesinde en sık kullanılan veri nesnesidir."
   ]
  },
  {
   "cell_type": "code",
   "execution_count": 3,
   "id": "bb358acd",
   "metadata": {},
   "outputs": [],
   "source": [
    "import pandas as pd"
   ]
  },
  {
   "cell_type": "code",
   "execution_count": 4,
   "id": "d792bf88",
   "metadata": {},
   "outputs": [],
   "source": [
    "sutunIsimleri = [\"tek sayılar\",\"çift sayılar\"] #veri çerçevesinin sütun isimlerinin yer aldığı liste"
   ]
  },
  {
   "cell_type": "code",
   "execution_count": 5,
   "id": "05527401",
   "metadata": {},
   "outputs": [],
   "source": [
    "veri = [[1,2],[3,4],[5,6]] #veri çerçevesinin değerlerinin yer aldığı bir içe içe liste"
   ]
  },
  {
   "cell_type": "code",
   "execution_count": 6,
   "id": "1f810735",
   "metadata": {},
   "outputs": [],
   "source": [
    "df = pd.DataFrame(veri,columns=sutunIsimleri) "
   ]
  },
  {
   "cell_type": "code",
   "execution_count": 7,
   "id": "b7080a2f",
   "metadata": {},
   "outputs": [
    {
     "data": {
      "text/html": [
       "<div>\n",
       "<style scoped>\n",
       "    .dataframe tbody tr th:only-of-type {\n",
       "        vertical-align: middle;\n",
       "    }\n",
       "\n",
       "    .dataframe tbody tr th {\n",
       "        vertical-align: top;\n",
       "    }\n",
       "\n",
       "    .dataframe thead th {\n",
       "        text-align: right;\n",
       "    }\n",
       "</style>\n",
       "<table border=\"1\" class=\"dataframe\">\n",
       "  <thead>\n",
       "    <tr style=\"text-align: right;\">\n",
       "      <th></th>\n",
       "      <th>tek sayılar</th>\n",
       "      <th>çift sayılar</th>\n",
       "    </tr>\n",
       "  </thead>\n",
       "  <tbody>\n",
       "    <tr>\n",
       "      <th>0</th>\n",
       "      <td>1</td>\n",
       "      <td>2</td>\n",
       "    </tr>\n",
       "    <tr>\n",
       "      <th>1</th>\n",
       "      <td>3</td>\n",
       "      <td>4</td>\n",
       "    </tr>\n",
       "    <tr>\n",
       "      <th>2</th>\n",
       "      <td>5</td>\n",
       "      <td>6</td>\n",
       "    </tr>\n",
       "  </tbody>\n",
       "</table>\n",
       "</div>"
      ],
      "text/plain": [
       "   tek sayılar  çift sayılar\n",
       "0            1             2\n",
       "1            3             4\n",
       "2            5             6"
      ]
     },
     "execution_count": 7,
     "metadata": {},
     "output_type": "execute_result"
    }
   ],
   "source": [
    "df"
   ]
  }
 ],
 "metadata": {
  "kernelspec": {
   "display_name": "Python 3 (ipykernel)",
   "language": "python",
   "name": "python3"
  },
  "language_info": {
   "codemirror_mode": {
    "name": "ipython",
    "version": 3
   },
   "file_extension": ".py",
   "mimetype": "text/x-python",
   "name": "python",
   "nbconvert_exporter": "python",
   "pygments_lexer": "ipython3",
   "version": "3.10.9"
  }
 },
 "nbformat": 4,
 "nbformat_minor": 5
}
