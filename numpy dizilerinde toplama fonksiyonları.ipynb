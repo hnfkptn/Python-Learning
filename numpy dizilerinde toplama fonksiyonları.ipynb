{
 "cells": [
  {
   "cell_type": "code",
   "execution_count": 1,
   "id": "a4c1bfeb",
   "metadata": {},
   "outputs": [],
   "source": [
    "import numpy as np"
   ]
  },
  {
   "cell_type": "code",
   "execution_count": 2,
   "id": "6289574f",
   "metadata": {},
   "outputs": [],
   "source": [
    "veri = np.array([1,2,3,4,5,7])"
   ]
  },
  {
   "cell_type": "code",
   "execution_count": 3,
   "id": "b94e5fd6",
   "metadata": {},
   "outputs": [
    {
     "data": {
      "text/plain": [
       "1"
      ]
     },
     "execution_count": 3,
     "metadata": {},
     "output_type": "execute_result"
    }
   ],
   "source": [
    "#min()\n",
    "#numpy dizisinin en küçük değerini getirir.\n",
    "np.min(veri)"
   ]
  },
  {
   "cell_type": "code",
   "execution_count": 4,
   "id": "da71d390",
   "metadata": {},
   "outputs": [
    {
     "data": {
      "text/plain": [
       "0"
      ]
     },
     "execution_count": 4,
     "metadata": {},
     "output_type": "execute_result"
    }
   ],
   "source": [
    "#argmin()\n",
    "#numpy dizisinin en küçük değerine sahip indeksi getirir.\n",
    "np.argmin(veri)"
   ]
  },
  {
   "cell_type": "code",
   "execution_count": 5,
   "id": "35736ef2",
   "metadata": {},
   "outputs": [
    {
     "data": {
      "text/plain": [
       "7"
      ]
     },
     "execution_count": 5,
     "metadata": {},
     "output_type": "execute_result"
    }
   ],
   "source": [
    "#max()\n",
    "#numpy dizisinin en büyük değerini getirir.\n",
    "np.max(veri)"
   ]
  },
  {
   "cell_type": "code",
   "execution_count": 6,
   "id": "76c64271",
   "metadata": {},
   "outputs": [
    {
     "data": {
      "text/plain": [
       "5"
      ]
     },
     "execution_count": 6,
     "metadata": {},
     "output_type": "execute_result"
    }
   ],
   "source": [
    "#argmax()\n",
    "#numpy dizisinin en büyük değerine sahip indeksi getirir.\n",
    "np.argmax(veri)"
   ]
  },
  {
   "cell_type": "code",
   "execution_count": 7,
   "id": "d8689b48",
   "metadata": {},
   "outputs": [
    {
     "data": {
      "text/plain": [
       "3.6666666666666665"
      ]
     },
     "execution_count": 7,
     "metadata": {},
     "output_type": "execute_result"
    }
   ],
   "source": [
    "#mean()\n",
    "#numpy dizisinin ortalamasını verir.\n",
    "np.mean(veri)"
   ]
  },
  {
   "cell_type": "code",
   "execution_count": 8,
   "id": "6a258680",
   "metadata": {},
   "outputs": [
    {
     "data": {
      "text/plain": [
       "1.9720265943665387"
      ]
     },
     "execution_count": 8,
     "metadata": {},
     "output_type": "execute_result"
    }
   ],
   "source": [
    "#std()\n",
    "#numpy dizisinin standart sapmasını verir.\n",
    "np.std(veri)"
   ]
  },
  {
   "cell_type": "code",
   "execution_count": 9,
   "id": "08d7a55b",
   "metadata": {},
   "outputs": [
    {
     "data": {
      "text/plain": [
       "3.8888888888888893"
      ]
     },
     "execution_count": 9,
     "metadata": {},
     "output_type": "execute_result"
    }
   ],
   "source": [
    "#var()\n",
    "#numpy disizinin varyansını verir.\n",
    "np.var(veri)"
   ]
  }
 ],
 "metadata": {
  "kernelspec": {
   "display_name": "Python 3 (ipykernel)",
   "language": "python",
   "name": "python3"
  },
  "language_info": {
   "codemirror_mode": {
    "name": "ipython",
    "version": 3
   },
   "file_extension": ".py",
   "mimetype": "text/x-python",
   "name": "python",
   "nbconvert_exporter": "python",
   "pygments_lexer": "ipython3",
   "version": "3.10.9"
  }
 },
 "nbformat": 4,
 "nbformat_minor": 5
}
