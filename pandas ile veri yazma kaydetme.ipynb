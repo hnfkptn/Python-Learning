{
 "cells": [
  {
   "cell_type": "code",
   "execution_count": 6,
   "id": "afc40392",
   "metadata": {},
   "outputs": [],
   "source": [
    "import pandas as pd"
   ]
  },
  {
   "cell_type": "code",
   "execution_count": 7,
   "id": "39481e0a",
   "metadata": {},
   "outputs": [],
   "source": [
    "#csv formatında kaydetmek için to_csv() metodu kullanılır.\n",
    "#parametre olarak kaydedilecek konumun yolunu + dosya adını alır.\n",
    "#excel dosyaı olarak kaydetmek için to_excel fonk.u kullanılır."
   ]
  },
  {
   "cell_type": "code",
   "execution_count": 8,
   "id": "c1309615",
   "metadata": {},
   "outputs": [],
   "source": [
    "veri = {\"isim\":[\"x\",\"y\",\"z\",\"w\"],\"yas\":[38,24,19,51],\"sehir\":[\"izmir\",\"düzce\",\"malatya\",\"edirne\"],\"maas\":[3000,4000,5000,2000]}"
   ]
  },
  {
   "cell_type": "code",
   "execution_count": 9,
   "id": "f86ba876",
   "metadata": {},
   "outputs": [],
   "source": [
    "df = pd.DataFrame(veri)"
   ]
  },
  {
   "cell_type": "code",
   "execution_count": 10,
   "id": "0b5ab172",
   "metadata": {},
   "outputs": [
    {
     "data": {
      "text/html": [
       "<div>\n",
       "<style scoped>\n",
       "    .dataframe tbody tr th:only-of-type {\n",
       "        vertical-align: middle;\n",
       "    }\n",
       "\n",
       "    .dataframe tbody tr th {\n",
       "        vertical-align: top;\n",
       "    }\n",
       "\n",
       "    .dataframe thead th {\n",
       "        text-align: right;\n",
       "    }\n",
       "</style>\n",
       "<table border=\"1\" class=\"dataframe\">\n",
       "  <thead>\n",
       "    <tr style=\"text-align: right;\">\n",
       "      <th></th>\n",
       "      <th>isim</th>\n",
       "      <th>yas</th>\n",
       "      <th>sehir</th>\n",
       "      <th>maas</th>\n",
       "    </tr>\n",
       "  </thead>\n",
       "  <tbody>\n",
       "    <tr>\n",
       "      <th>0</th>\n",
       "      <td>x</td>\n",
       "      <td>38</td>\n",
       "      <td>izmir</td>\n",
       "      <td>3000</td>\n",
       "    </tr>\n",
       "    <tr>\n",
       "      <th>1</th>\n",
       "      <td>y</td>\n",
       "      <td>24</td>\n",
       "      <td>düzce</td>\n",
       "      <td>4000</td>\n",
       "    </tr>\n",
       "    <tr>\n",
       "      <th>2</th>\n",
       "      <td>z</td>\n",
       "      <td>19</td>\n",
       "      <td>malatya</td>\n",
       "      <td>5000</td>\n",
       "    </tr>\n",
       "    <tr>\n",
       "      <th>3</th>\n",
       "      <td>w</td>\n",
       "      <td>51</td>\n",
       "      <td>edirne</td>\n",
       "      <td>2000</td>\n",
       "    </tr>\n",
       "  </tbody>\n",
       "</table>\n",
       "</div>"
      ],
      "text/plain": [
       "  isim  yas    sehir  maas\n",
       "0    x   38    izmir  3000\n",
       "1    y   24    düzce  4000\n",
       "2    z   19  malatya  5000\n",
       "3    w   51   edirne  2000"
      ]
     },
     "execution_count": 10,
     "metadata": {},
     "output_type": "execute_result"
    }
   ],
   "source": [
    "df"
   ]
  },
  {
   "cell_type": "code",
   "execution_count": 17,
   "id": "96a4a14a",
   "metadata": {},
   "outputs": [],
   "source": [
    "dosyaAdi = \"veri.xlsx\""
   ]
  },
  {
   "cell_type": "code",
   "execution_count": 18,
   "id": "863a561d",
   "metadata": {},
   "outputs": [],
   "source": [
    "df.to_excel(\"C:/Users/kaptan/Desktop/Ben/Career/Data Science/Python/ogrenmeProjeleri/yardımcı eklentiler/\"+dosyaAdi)\n"
   ]
  }
 ],
 "metadata": {
  "kernelspec": {
   "display_name": "Python 3 (ipykernel)",
   "language": "python",
   "name": "python3"
  },
  "language_info": {
   "codemirror_mode": {
    "name": "ipython",
    "version": 3
   },
   "file_extension": ".py",
   "mimetype": "text/x-python",
   "name": "python",
   "nbconvert_exporter": "python",
   "pygments_lexer": "ipython3",
   "version": "3.10.9"
  }
 },
 "nbformat": 4,
 "nbformat_minor": 5
}
