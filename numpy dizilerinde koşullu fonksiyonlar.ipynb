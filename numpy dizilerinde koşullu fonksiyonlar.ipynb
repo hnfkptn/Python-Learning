{
 "cells": [
  {
   "cell_type": "code",
   "execution_count": 2,
   "id": "3f092c91",
   "metadata": {},
   "outputs": [],
   "source": [
    "#koşullu ifadeler bize verileri yönetmek ve seçmek konusunda yardımcı olur."
   ]
  },
  {
   "cell_type": "code",
   "execution_count": 3,
   "id": "41f6a66a",
   "metadata": {},
   "outputs": [],
   "source": [
    "import numpy as np"
   ]
  },
  {
   "cell_type": "code",
   "execution_count": 13,
   "id": "8ae40ebf",
   "metadata": {},
   "outputs": [],
   "source": [
    "a = np.array([[2,4,6],[20,40,60]])\n",
    "b = np.array([[1,3,5],[10,30,50]])"
   ]
  },
  {
   "cell_type": "code",
   "execution_count": 5,
   "id": "d55c3031",
   "metadata": {},
   "outputs": [
    {
     "data": {
      "text/plain": [
       "array([[ 2,  4,  6],\n",
       "       [20, 40, 60]])"
      ]
     },
     "execution_count": 5,
     "metadata": {},
     "output_type": "execute_result"
    }
   ],
   "source": [
    "a"
   ]
  },
  {
   "cell_type": "code",
   "execution_count": 6,
   "id": "1027f39d",
   "metadata": {},
   "outputs": [
    {
     "data": {
      "text/plain": [
       "array([[ 1,  3,  5],\n",
       "       [10, 30, 50]])"
      ]
     },
     "execution_count": 6,
     "metadata": {},
     "output_type": "execute_result"
    }
   ],
   "source": [
    "b"
   ]
  },
  {
   "cell_type": "code",
   "execution_count": 16,
   "id": "85fcf1af",
   "metadata": {
    "scrolled": true
   },
   "outputs": [
    {
     "data": {
      "text/plain": [
       "array([[1, 0],\n",
       "       [1, 1],\n",
       "       [1, 2]], dtype=int64)"
      ]
     },
     "execution_count": 16,
     "metadata": {},
     "output_type": "execute_result"
    }
   ],
   "source": [
    "#argwhere()\n",
    "#koşulu sağlayan değerlerin indekini verir. çıktı, [satır,sütun] şeklinde olur.\n",
    "np.argwhere(a>15)"
   ]
  },
  {
   "cell_type": "code",
   "execution_count": 17,
   "id": "768fa90f",
   "metadata": {},
   "outputs": [
    {
     "data": {
      "text/plain": [
       "array([[2, 4, 0],\n",
       "       [0, 0, 0]])"
      ]
     },
     "execution_count": 17,
     "metadata": {},
     "output_type": "execute_result"
    }
   ],
   "source": [
    "#where()\n",
    "#koşulu sağlayan değerleri değiştirme imkanı tanır.\n",
    "#ilk parametre koşul; ikincisi koşul doğruysa verinin çekileceği değer,sonuncusu koşul yanlışsa verinin çekileceği değerdir.\n",
    "np.where(a>5,0,a)"
   ]
  },
  {
   "cell_type": "code",
   "execution_count": 18,
   "id": "e2692cbd",
   "metadata": {},
   "outputs": [
    {
     "data": {
      "text/plain": [
       "array([[ 1,  4,  5],\n",
       "       [20, 40, 60]])"
      ]
     },
     "execution_count": 18,
     "metadata": {},
     "output_type": "execute_result"
    }
   ],
   "source": [
    "#a verisinin 4'e tam bölünen değerlerini b verisindeki aynı konumundaki değeri ile doldurulmasını yapalım:\n",
    "np.where(a%4,b,a)"
   ]
  },
  {
   "cell_type": "code",
   "execution_count": 22,
   "id": "ec2b0f18",
   "metadata": {},
   "outputs": [
    {
     "data": {
      "text/plain": [
       "array([[0, 0, 0],\n",
       "       [1, 1, 1]])"
      ]
     },
     "execution_count": 22,
     "metadata": {},
     "output_type": "execute_result"
    }
   ],
   "source": [
    "#select()\n",
    "#koşullar listesine bağlı olarak bir dizi listesinden eğer seçer. where'den farklı olarak birden fazla koşulu işleyebilir.\n",
    "sartlar=[a<10,a>10]\n",
    "durumlar=[0,1]\n",
    "np.select(sartlar,durumlar)"
   ]
  }
 ],
 "metadata": {
  "kernelspec": {
   "display_name": "Python 3 (ipykernel)",
   "language": "python",
   "name": "python3"
  },
  "language_info": {
   "codemirror_mode": {
    "name": "ipython",
    "version": 3
   },
   "file_extension": ".py",
   "mimetype": "text/x-python",
   "name": "python",
   "nbconvert_exporter": "python",
   "pygments_lexer": "ipython3",
   "version": "3.10.9"
  }
 },
 "nbformat": 4,
 "nbformat_minor": 5
}
