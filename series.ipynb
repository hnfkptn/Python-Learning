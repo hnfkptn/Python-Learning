{
 "cells": [
  {
   "cell_type": "code",
   "execution_count": 1,
   "id": "fde570b0",
   "metadata": {},
   "outputs": [],
   "source": [
    "#seri veri yapısı, indekslenebilir tek sütunlu bir dizidir.\n",
    "#numpy kütüphanesinin aksine, pandas ile oluşturduğumuz diziler homojen yapıda olmayabilirler.\n",
    "#gerçek hayat problemlerinde genellikle çok sütunlu veriler kullanıldığından serileri sıklıkla tercih etmeyiz."
   ]
  },
  {
   "cell_type": "code",
   "execution_count": 2,
   "id": "c047323a",
   "metadata": {},
   "outputs": [],
   "source": [
    "import pandas as pd"
   ]
  },
  {
   "cell_type": "code",
   "execution_count": 3,
   "id": "1d013713",
   "metadata": {},
   "outputs": [],
   "source": [
    "seri = pd.Series(['k','t','h','y',43,True]) #6 elemanlı  seri adında bir seri tipinden değişken oluşturduk."
   ]
  },
  {
   "cell_type": "code",
   "execution_count": 4,
   "id": "fd9c3181",
   "metadata": {},
   "outputs": [
    {
     "data": {
      "text/plain": [
       "0       k\n",
       "1       t\n",
       "2       h\n",
       "3       y\n",
       "4      43\n",
       "5    True\n",
       "dtype: object"
      ]
     },
     "execution_count": 4,
     "metadata": {},
     "output_type": "execute_result"
    }
   ],
   "source": [
    "seri"
   ]
  },
  {
   "cell_type": "code",
   "execution_count": null,
   "id": "6949e998",
   "metadata": {},
   "outputs": [],
   "source": []
  }
 ],
 "metadata": {
  "kernelspec": {
   "display_name": "Python 3 (ipykernel)",
   "language": "python",
   "name": "python3"
  },
  "language_info": {
   "codemirror_mode": {
    "name": "ipython",
    "version": 3
   },
   "file_extension": ".py",
   "mimetype": "text/x-python",
   "name": "python",
   "nbconvert_exporter": "python",
   "pygments_lexer": "ipython3",
   "version": "3.10.9"
  }
 },
 "nbformat": 4,
 "nbformat_minor": 5
}
