{
 "cells": [
  {
   "cell_type": "code",
   "execution_count": 1,
   "id": "f82e3b28",
   "metadata": {},
   "outputs": [],
   "source": [
    "#numpy dizileriyle yapılan temel aritmetik işlemler eleman bazlı işlemler gerçekleştirir."
   ]
  },
  {
   "cell_type": "code",
   "execution_count": 2,
   "id": "3130a1f2",
   "metadata": {},
   "outputs": [],
   "source": [
    "import numpy as np"
   ]
  },
  {
   "cell_type": "code",
   "execution_count": 3,
   "id": "36043bae",
   "metadata": {},
   "outputs": [],
   "source": [
    "a = np.array([1,2,3])\n",
    "b = np.array([10,20,30])"
   ]
  },
  {
   "cell_type": "code",
   "execution_count": 4,
   "id": "5e54809d",
   "metadata": {},
   "outputs": [],
   "source": [
    "c = a+b #a ve b dizileri toplanarak yeni bir c dizisi oluşturulmuştur."
   ]
  },
  {
   "cell_type": "code",
   "execution_count": 5,
   "id": "9f7d5901",
   "metadata": {},
   "outputs": [
    {
     "data": {
      "text/plain": [
       "array([11, 22, 33])"
      ]
     },
     "execution_count": 5,
     "metadata": {},
     "output_type": "execute_result"
    }
   ],
   "source": [
    "c"
   ]
  },
  {
   "cell_type": "code",
   "execution_count": 6,
   "id": "9e43a1ab",
   "metadata": {},
   "outputs": [],
   "source": [
    "c = a-b "
   ]
  },
  {
   "cell_type": "code",
   "execution_count": 7,
   "id": "1bfa8539",
   "metadata": {},
   "outputs": [
    {
     "data": {
      "text/plain": [
       "array([ -9, -18, -27])"
      ]
     },
     "execution_count": 7,
     "metadata": {},
     "output_type": "execute_result"
    }
   ],
   "source": [
    "c"
   ]
  },
  {
   "cell_type": "code",
   "execution_count": 8,
   "id": "d8aaa2ba",
   "metadata": {},
   "outputs": [],
   "source": [
    "c = a*b "
   ]
  },
  {
   "cell_type": "code",
   "execution_count": 9,
   "id": "5bc72c56",
   "metadata": {},
   "outputs": [
    {
     "data": {
      "text/plain": [
       "array([10, 40, 90])"
      ]
     },
     "execution_count": 9,
     "metadata": {},
     "output_type": "execute_result"
    }
   ],
   "source": [
    "c"
   ]
  },
  {
   "cell_type": "code",
   "execution_count": 10,
   "id": "e7072688",
   "metadata": {},
   "outputs": [],
   "source": [
    "c = a/b "
   ]
  },
  {
   "cell_type": "code",
   "execution_count": 11,
   "id": "1aa479b3",
   "metadata": {},
   "outputs": [
    {
     "data": {
      "text/plain": [
       "array([0.1, 0.1, 0.1])"
      ]
     },
     "execution_count": 11,
     "metadata": {},
     "output_type": "execute_result"
    }
   ],
   "source": [
    "c"
   ]
  }
 ],
 "metadata": {
  "kernelspec": {
   "display_name": "Python 3 (ipykernel)",
   "language": "python",
   "name": "python3"
  },
  "language_info": {
   "codemirror_mode": {
    "name": "ipython",
    "version": 3
   },
   "file_extension": ".py",
   "mimetype": "text/x-python",
   "name": "python",
   "nbconvert_exporter": "python",
   "pygments_lexer": "ipython3",
   "version": "3.10.9"
  }
 },
 "nbformat": 4,
 "nbformat_minor": 5
}
