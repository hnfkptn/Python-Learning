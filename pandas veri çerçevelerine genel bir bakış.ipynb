{
 "cells": [
  {
   "cell_type": "code",
   "execution_count": 1,
   "id": "d98838db",
   "metadata": {},
   "outputs": [],
   "source": [
    "import pandas as pd"
   ]
  },
  {
   "cell_type": "code",
   "execution_count": 11,
   "id": "5f5afaba",
   "metadata": {},
   "outputs": [],
   "source": [
    "veri = {\"isim\":[\"x\",\"y\",\"z\",\"w\"],\"yas\":[38,24,19,51],\"tutulan takım\":[\"rm\",\"juve\",\"manu\",\"liv\"],\"maas\":[3000,4000,5000,2000]}"
   ]
  },
  {
   "cell_type": "code",
   "execution_count": 12,
   "id": "ee7cf464",
   "metadata": {},
   "outputs": [],
   "source": [
    "df = pd.DataFrame(veri)"
   ]
  },
  {
   "cell_type": "code",
   "execution_count": 13,
   "id": "4e0fb6b9",
   "metadata": {},
   "outputs": [
    {
     "data": {
      "text/html": [
       "<div>\n",
       "<style scoped>\n",
       "    .dataframe tbody tr th:only-of-type {\n",
       "        vertical-align: middle;\n",
       "    }\n",
       "\n",
       "    .dataframe tbody tr th {\n",
       "        vertical-align: top;\n",
       "    }\n",
       "\n",
       "    .dataframe thead th {\n",
       "        text-align: right;\n",
       "    }\n",
       "</style>\n",
       "<table border=\"1\" class=\"dataframe\">\n",
       "  <thead>\n",
       "    <tr style=\"text-align: right;\">\n",
       "      <th></th>\n",
       "      <th>isim</th>\n",
       "      <th>yas</th>\n",
       "      <th>tutulan takım</th>\n",
       "      <th>maas</th>\n",
       "    </tr>\n",
       "  </thead>\n",
       "  <tbody>\n",
       "    <tr>\n",
       "      <th>0</th>\n",
       "      <td>x</td>\n",
       "      <td>38</td>\n",
       "      <td>rm</td>\n",
       "      <td>3000</td>\n",
       "    </tr>\n",
       "    <tr>\n",
       "      <th>1</th>\n",
       "      <td>y</td>\n",
       "      <td>24</td>\n",
       "      <td>juve</td>\n",
       "      <td>4000</td>\n",
       "    </tr>\n",
       "    <tr>\n",
       "      <th>2</th>\n",
       "      <td>z</td>\n",
       "      <td>19</td>\n",
       "      <td>manu</td>\n",
       "      <td>5000</td>\n",
       "    </tr>\n",
       "    <tr>\n",
       "      <th>3</th>\n",
       "      <td>w</td>\n",
       "      <td>51</td>\n",
       "      <td>liv</td>\n",
       "      <td>2000</td>\n",
       "    </tr>\n",
       "  </tbody>\n",
       "</table>\n",
       "</div>"
      ],
      "text/plain": [
       "  isim  yas tutulan takım  maas\n",
       "0    x   38            rm  3000\n",
       "1    y   24          juve  4000\n",
       "2    z   19          manu  5000\n",
       "3    w   51           liv  2000"
      ]
     },
     "execution_count": 13,
     "metadata": {},
     "output_type": "execute_result"
    }
   ],
   "source": [
    "df"
   ]
  },
  {
   "cell_type": "code",
   "execution_count": 14,
   "id": "1552fa9f",
   "metadata": {},
   "outputs": [
    {
     "data": {
      "text/plain": [
       "(4, 4)"
      ]
     },
     "execution_count": 14,
     "metadata": {},
     "output_type": "execute_result"
    }
   ],
   "source": [
    "df.shape"
   ]
  },
  {
   "cell_type": "code",
   "execution_count": 15,
   "id": "400fbb1b",
   "metadata": {},
   "outputs": [
    {
     "name": "stdout",
     "output_type": "stream",
     "text": [
      "<class 'pandas.core.frame.DataFrame'>\n",
      "RangeIndex: 4 entries, 0 to 3\n",
      "Data columns (total 4 columns):\n",
      " #   Column         Non-Null Count  Dtype \n",
      "---  ------         --------------  ----- \n",
      " 0   isim           4 non-null      object\n",
      " 1   yas            4 non-null      int64 \n",
      " 2   tutulan takım  4 non-null      object\n",
      " 3   maas           4 non-null      int64 \n",
      "dtypes: int64(2), object(2)\n",
      "memory usage: 256.0+ bytes\n"
     ]
    }
   ],
   "source": [
    "df.info() #veri çerçevesinin özetine genel bir bakış\n",
    "#her bir sütunu, veri tipini ve eksik bilgi olup olmadığını söyler"
   ]
  },
  {
   "cell_type": "code",
   "execution_count": 16,
   "id": "4dcea161",
   "metadata": {},
   "outputs": [],
   "source": [
    "#milyon satırlarca verimiz olsaydı her satırı yazdıramazdık. onun yerine ilk satırdaki sütun blgileri değerlerine bakarak\n",
    "#genel bir yapıyı gözümüzde canlandırmak isteriz. bunun için .head() fonksiyonu kullanılır."
   ]
  },
  {
   "cell_type": "code",
   "execution_count": 17,
   "id": "45d3f37c",
   "metadata": {},
   "outputs": [
    {
     "data": {
      "text/plain": [
       "Index(['isim', 'yas', 'tutulan takım', 'maas'], dtype='object')"
      ]
     },
     "execution_count": 17,
     "metadata": {},
     "output_type": "execute_result"
    }
   ],
   "source": [
    "df.columns #verimizin sütun isimlerine erişmek için kullanılır."
   ]
  },
  {
   "cell_type": "code",
   "execution_count": 18,
   "id": "b2b61766",
   "metadata": {},
   "outputs": [
    {
     "data": {
      "text/plain": [
       "RangeIndex(start=0, stop=4, step=1)"
      ]
     },
     "execution_count": 18,
     "metadata": {},
     "output_type": "execute_result"
    }
   ],
   "source": [
    "df.index #satır isimlerini görmek için kullanılır. bu isimleri değiştirmek mümkün."
   ]
  },
  {
   "cell_type": "code",
   "execution_count": 19,
   "id": "c4a290e2",
   "metadata": {},
   "outputs": [],
   "source": [
    "yeniSatirIsimleri = [\"satır1\",\"satır2\",\"satır3\",\"satır4\"]\n",
    "df.index = yeniSatirIsimleri #satır isimlerini değiştirdik."
   ]
  },
  {
   "cell_type": "code",
   "execution_count": 20,
   "id": "399ab2b7",
   "metadata": {},
   "outputs": [
    {
     "data": {
      "text/html": [
       "<div>\n",
       "<style scoped>\n",
       "    .dataframe tbody tr th:only-of-type {\n",
       "        vertical-align: middle;\n",
       "    }\n",
       "\n",
       "    .dataframe tbody tr th {\n",
       "        vertical-align: top;\n",
       "    }\n",
       "\n",
       "    .dataframe thead th {\n",
       "        text-align: right;\n",
       "    }\n",
       "</style>\n",
       "<table border=\"1\" class=\"dataframe\">\n",
       "  <thead>\n",
       "    <tr style=\"text-align: right;\">\n",
       "      <th></th>\n",
       "      <th>isim</th>\n",
       "      <th>yas</th>\n",
       "      <th>tutulan takım</th>\n",
       "      <th>maas</th>\n",
       "    </tr>\n",
       "  </thead>\n",
       "  <tbody>\n",
       "    <tr>\n",
       "      <th>satır1</th>\n",
       "      <td>x</td>\n",
       "      <td>38</td>\n",
       "      <td>rm</td>\n",
       "      <td>3000</td>\n",
       "    </tr>\n",
       "    <tr>\n",
       "      <th>satır2</th>\n",
       "      <td>y</td>\n",
       "      <td>24</td>\n",
       "      <td>juve</td>\n",
       "      <td>4000</td>\n",
       "    </tr>\n",
       "    <tr>\n",
       "      <th>satır3</th>\n",
       "      <td>z</td>\n",
       "      <td>19</td>\n",
       "      <td>manu</td>\n",
       "      <td>5000</td>\n",
       "    </tr>\n",
       "    <tr>\n",
       "      <th>satır4</th>\n",
       "      <td>w</td>\n",
       "      <td>51</td>\n",
       "      <td>liv</td>\n",
       "      <td>2000</td>\n",
       "    </tr>\n",
       "  </tbody>\n",
       "</table>\n",
       "</div>"
      ],
      "text/plain": [
       "       isim  yas tutulan takım  maas\n",
       "satır1    x   38            rm  3000\n",
       "satır2    y   24          juve  4000\n",
       "satır3    z   19          manu  5000\n",
       "satır4    w   51           liv  2000"
      ]
     },
     "execution_count": 20,
     "metadata": {},
     "output_type": "execute_result"
    }
   ],
   "source": [
    "df #sütun isimleri değişmemiştir."
   ]
  },
  {
   "cell_type": "code",
   "execution_count": 21,
   "id": "33e6f9df",
   "metadata": {},
   "outputs": [
    {
     "data": {
      "text/plain": [
       "Index(['satır1', 'satır2', 'satır3', 'satır4'], dtype='object')"
      ]
     },
     "execution_count": 21,
     "metadata": {},
     "output_type": "execute_result"
    }
   ],
   "source": [
    "df.index #sütun isimlendirilmesi değişmiştir."
   ]
  },
  {
   "cell_type": "code",
   "execution_count": 22,
   "id": "bc0583a1",
   "metadata": {},
   "outputs": [],
   "source": [
    "# verilerimizdeki istediğimiz bölgelere temelde iki yöntem ile erişebiliriz.\n",
    "#bunların ilki .iloc[] diğeri ise .loc[]'tur.\n",
    "#iloc[], sayılar ile kullanılırken loc[] stringler ile kullanılır.\n",
    "#kullanım kolaylığı açısından iloc[] daha sık tercih edilir."
   ]
  },
  {
   "cell_type": "code",
   "execution_count": 23,
   "id": "3fd53083",
   "metadata": {},
   "outputs": [
    {
     "data": {
      "text/html": [
       "<div>\n",
       "<style scoped>\n",
       "    .dataframe tbody tr th:only-of-type {\n",
       "        vertical-align: middle;\n",
       "    }\n",
       "\n",
       "    .dataframe tbody tr th {\n",
       "        vertical-align: top;\n",
       "    }\n",
       "\n",
       "    .dataframe thead th {\n",
       "        text-align: right;\n",
       "    }\n",
       "</style>\n",
       "<table border=\"1\" class=\"dataframe\">\n",
       "  <thead>\n",
       "    <tr style=\"text-align: right;\">\n",
       "      <th></th>\n",
       "      <th>isim</th>\n",
       "      <th>maas</th>\n",
       "    </tr>\n",
       "  </thead>\n",
       "  <tbody>\n",
       "    <tr>\n",
       "      <th>satır1</th>\n",
       "      <td>x</td>\n",
       "      <td>3000</td>\n",
       "    </tr>\n",
       "    <tr>\n",
       "      <th>satır3</th>\n",
       "      <td>z</td>\n",
       "      <td>5000</td>\n",
       "    </tr>\n",
       "  </tbody>\n",
       "</table>\n",
       "</div>"
      ],
      "text/plain": [
       "       isim  maas\n",
       "satır1    x  3000\n",
       "satır3    z  5000"
      ]
     },
     "execution_count": 23,
     "metadata": {},
     "output_type": "execute_result"
    }
   ],
   "source": [
    "df.iloc[[0,2],[0,3]] #[[satır1, satır3], [isim, maas]]"
   ]
  },
  {
   "cell_type": "code",
   "execution_count": 24,
   "id": "90007dae",
   "metadata": {},
   "outputs": [
    {
     "data": {
      "text/html": [
       "<div>\n",
       "<style scoped>\n",
       "    .dataframe tbody tr th:only-of-type {\n",
       "        vertical-align: middle;\n",
       "    }\n",
       "\n",
       "    .dataframe tbody tr th {\n",
       "        vertical-align: top;\n",
       "    }\n",
       "\n",
       "    .dataframe thead th {\n",
       "        text-align: right;\n",
       "    }\n",
       "</style>\n",
       "<table border=\"1\" class=\"dataframe\">\n",
       "  <thead>\n",
       "    <tr style=\"text-align: right;\">\n",
       "      <th></th>\n",
       "      <th>isim</th>\n",
       "      <th>maas</th>\n",
       "    </tr>\n",
       "  </thead>\n",
       "  <tbody>\n",
       "    <tr>\n",
       "      <th>satır1</th>\n",
       "      <td>x</td>\n",
       "      <td>3000</td>\n",
       "    </tr>\n",
       "    <tr>\n",
       "      <th>satır3</th>\n",
       "      <td>z</td>\n",
       "      <td>5000</td>\n",
       "    </tr>\n",
       "  </tbody>\n",
       "</table>\n",
       "</div>"
      ],
      "text/plain": [
       "       isim  maas\n",
       "satır1    x  3000\n",
       "satır3    z  5000"
      ]
     },
     "execution_count": 24,
     "metadata": {},
     "output_type": "execute_result"
    }
   ],
   "source": [
    "df.loc[[\"satır1\",\"satır3\"],[\"isim\",\"maas\"]]"
   ]
  },
  {
   "cell_type": "code",
   "execution_count": 25,
   "id": "3e61a710",
   "metadata": {},
   "outputs": [
    {
     "data": {
      "text/plain": [
       "satır1      rm\n",
       "satır2    juve\n",
       "satır3    manu\n",
       "satır4     liv\n",
       "Name: tutulan takım, dtype: object"
      ]
     },
     "execution_count": 25,
     "metadata": {},
     "output_type": "execute_result"
    }
   ],
   "source": [
    "df.iloc[:,2] #2 numaralı indeksli sütun yazdırılmıştır."
   ]
  },
  {
   "cell_type": "code",
   "execution_count": 30,
   "id": "a60d4810",
   "metadata": {
    "scrolled": true
   },
   "outputs": [
    {
     "data": {
      "text/plain": [
       "isim                y\n",
       "yas                24\n",
       "tutulan takım    juve\n",
       "maas             4000\n",
       "Name: satır2, dtype: object"
      ]
     },
     "execution_count": 30,
     "metadata": {},
     "output_type": "execute_result"
    }
   ],
   "source": [
    "df.iloc[1,:] #satır2'nin değerleri yazdırılmıştır."
   ]
  },
  {
   "cell_type": "code",
   "execution_count": 35,
   "id": "ca5035d5",
   "metadata": {
    "scrolled": true
   },
   "outputs": [
    {
     "data": {
      "text/html": [
       "<div>\n",
       "<style scoped>\n",
       "    .dataframe tbody tr th:only-of-type {\n",
       "        vertical-align: middle;\n",
       "    }\n",
       "\n",
       "    .dataframe tbody tr th {\n",
       "        vertical-align: top;\n",
       "    }\n",
       "\n",
       "    .dataframe thead th {\n",
       "        text-align: right;\n",
       "    }\n",
       "</style>\n",
       "<table border=\"1\" class=\"dataframe\">\n",
       "  <thead>\n",
       "    <tr style=\"text-align: right;\">\n",
       "      <th></th>\n",
       "      <th>yas</th>\n",
       "      <th>tutulan takım</th>\n",
       "    </tr>\n",
       "  </thead>\n",
       "  <tbody>\n",
       "    <tr>\n",
       "      <th>satır1</th>\n",
       "      <td>38</td>\n",
       "      <td>rm</td>\n",
       "    </tr>\n",
       "    <tr>\n",
       "      <th>satır2</th>\n",
       "      <td>24</td>\n",
       "      <td>juve</td>\n",
       "    </tr>\n",
       "    <tr>\n",
       "      <th>satır3</th>\n",
       "      <td>19</td>\n",
       "      <td>manu</td>\n",
       "    </tr>\n",
       "    <tr>\n",
       "      <th>satır4</th>\n",
       "      <td>51</td>\n",
       "      <td>liv</td>\n",
       "    </tr>\n",
       "  </tbody>\n",
       "</table>\n",
       "</div>"
      ],
      "text/plain": [
       "        yas tutulan takım\n",
       "satır1   38            rm\n",
       "satır2   24          juve\n",
       "satır3   19          manu\n",
       "satır4   51           liv"
      ]
     },
     "execution_count": 35,
     "metadata": {},
     "output_type": "execute_result"
    }
   ],
   "source": [
    "df.iloc[:,1:3] #1. ve 3. indeks arasında yer alan sütunların değerlerin yazdırılmıştır."
   ]
  },
  {
   "cell_type": "code",
   "execution_count": 36,
   "id": "edaa30ef",
   "metadata": {},
   "outputs": [
    {
     "data": {
      "text/html": [
       "<div>\n",
       "<style scoped>\n",
       "    .dataframe tbody tr th:only-of-type {\n",
       "        vertical-align: middle;\n",
       "    }\n",
       "\n",
       "    .dataframe tbody tr th {\n",
       "        vertical-align: top;\n",
       "    }\n",
       "\n",
       "    .dataframe thead th {\n",
       "        text-align: right;\n",
       "    }\n",
       "</style>\n",
       "<table border=\"1\" class=\"dataframe\">\n",
       "  <thead>\n",
       "    <tr style=\"text-align: right;\">\n",
       "      <th></th>\n",
       "      <th>yas</th>\n",
       "      <th>maas</th>\n",
       "    </tr>\n",
       "  </thead>\n",
       "  <tbody>\n",
       "    <tr>\n",
       "      <th>count</th>\n",
       "      <td>4.000000</td>\n",
       "      <td>4.000000</td>\n",
       "    </tr>\n",
       "    <tr>\n",
       "      <th>mean</th>\n",
       "      <td>33.000000</td>\n",
       "      <td>3500.000000</td>\n",
       "    </tr>\n",
       "    <tr>\n",
       "      <th>std</th>\n",
       "      <td>14.445299</td>\n",
       "      <td>1290.994449</td>\n",
       "    </tr>\n",
       "    <tr>\n",
       "      <th>min</th>\n",
       "      <td>19.000000</td>\n",
       "      <td>2000.000000</td>\n",
       "    </tr>\n",
       "    <tr>\n",
       "      <th>25%</th>\n",
       "      <td>22.750000</td>\n",
       "      <td>2750.000000</td>\n",
       "    </tr>\n",
       "    <tr>\n",
       "      <th>50%</th>\n",
       "      <td>31.000000</td>\n",
       "      <td>3500.000000</td>\n",
       "    </tr>\n",
       "    <tr>\n",
       "      <th>75%</th>\n",
       "      <td>41.250000</td>\n",
       "      <td>4250.000000</td>\n",
       "    </tr>\n",
       "    <tr>\n",
       "      <th>max</th>\n",
       "      <td>51.000000</td>\n",
       "      <td>5000.000000</td>\n",
       "    </tr>\n",
       "  </tbody>\n",
       "</table>\n",
       "</div>"
      ],
      "text/plain": [
       "             yas         maas\n",
       "count   4.000000     4.000000\n",
       "mean   33.000000  3500.000000\n",
       "std    14.445299  1290.994449\n",
       "min    19.000000  2000.000000\n",
       "25%    22.750000  2750.000000\n",
       "50%    31.000000  3500.000000\n",
       "75%    41.250000  4250.000000\n",
       "max    51.000000  5000.000000"
      ]
     },
     "execution_count": 36,
     "metadata": {},
     "output_type": "execute_result"
    }
   ],
   "source": [
    "df.describe() #verimizdeki verilen temel istatistik detaylarını görüntülemiş oluruz\n",
    "#bu fonksiyon yalnızca sayısal değerler için çalışır.\n",
    "#her sütun için eleman sayısı, ortalama değer, standart sapma, en küçük ve en büyük değerler arasındaki dağılım görünür."
   ]
  }
 ],
 "metadata": {
  "kernelspec": {
   "display_name": "Python 3 (ipykernel)",
   "language": "python",
   "name": "python3"
  },
  "language_info": {
   "codemirror_mode": {
    "name": "ipython",
    "version": 3
   },
   "file_extension": ".py",
   "mimetype": "text/x-python",
   "name": "python",
   "nbconvert_exporter": "python",
   "pygments_lexer": "ipython3",
   "version": "3.10.9"
  }
 },
 "nbformat": 4,
 "nbformat_minor": 5
}
