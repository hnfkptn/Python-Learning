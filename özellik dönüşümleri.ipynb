{
 "cells": [
  {
   "cell_type": "markdown",
   "id": "a9c71a98",
   "metadata": {},
   "source": [
    "# Özellik dönüşümleri\n",
    "- normalizasyon\n",
    "1. formül: $x_{scaled} = \\frac{x_i - x_{min}}{x_{max}-x{min}}$\n",
    "2. bu formül min max normalizasyonu diye geçer.\n",
    "3. 0-1 arasına ölçeklendirilir.\n",
    "- standardizasyon\n",
    "1. tüm değerleri ortalamadan çıkartıp standart sapmaya böleriz.\n",
    "2. formül: $x_{scaled} = \\frac{x_i - x_{mean}}{x_{std}}$\n",
    "3. standardizasyon ile +3 ile -3 arasına ölçeklendirelir.\n",
    "- scikitlearn içinde çeşitli ölçeklendirici fonksiyonlar vardır."
   ]
  },
  {
   "cell_type": "code",
   "execution_count": 11,
   "id": "d8868cd6",
   "metadata": {},
   "outputs": [],
   "source": [
    "import pandas as pd\n",
    "import numpy as np"
   ]
  },
  {
   "cell_type": "code",
   "execution_count": 3,
   "id": "b4647219",
   "metadata": {},
   "outputs": [],
   "source": [
    "veri_seti = pd.read_csv(\"https://raw.githubusercontent.com/datasciencedojo/datasets/master/titanic.csv\")"
   ]
  },
  {
   "cell_type": "code",
   "execution_count": 4,
   "id": "d269c400",
   "metadata": {},
   "outputs": [],
   "source": [
    "set = veri_seti.Age.fillna(value=veri_seti.Age.mean()) #yaşın ortalma değeri ile doldurduk."
   ]
  },
  {
   "cell_type": "code",
   "execution_count": 5,
   "id": "eb93c048",
   "metadata": {},
   "outputs": [
    {
     "data": {
      "text/plain": [
       "0.42"
      ]
     },
     "execution_count": 5,
     "metadata": {},
     "output_type": "execute_result"
    }
   ],
   "source": [
    "set.min()"
   ]
  },
  {
   "cell_type": "code",
   "execution_count": 6,
   "id": "c33376fc",
   "metadata": {},
   "outputs": [
    {
     "data": {
      "text/plain": [
       "80.0"
      ]
     },
     "execution_count": 6,
     "metadata": {},
     "output_type": "execute_result"
    }
   ],
   "source": [
    "set.max()"
   ]
  },
  {
   "cell_type": "code",
   "execution_count": 7,
   "id": "082157d9",
   "metadata": {},
   "outputs": [],
   "source": [
    "normalize_edildi = (set - set.min()) / (set.max() - set.min())\n",
    "#min max normalizasyonu 0 ile 1 arasına ölçeklendirilmişdir."
   ]
  },
  {
   "cell_type": "code",
   "execution_count": 12,
   "id": "a3565bde",
   "metadata": {},
   "outputs": [
    {
     "data": {
      "text/plain": [
       "0.0"
      ]
     },
     "execution_count": 12,
     "metadata": {},
     "output_type": "execute_result"
    }
   ],
   "source": [
    "normalize_edildi.min()"
   ]
  },
  {
   "cell_type": "code",
   "execution_count": 13,
   "id": "7ac34d7d",
   "metadata": {},
   "outputs": [
    {
     "data": {
      "text/plain": [
       "1.0"
      ]
     },
     "execution_count": 13,
     "metadata": {},
     "output_type": "execute_result"
    }
   ],
   "source": [
    "normalize_edildi.max()"
   ]
  },
  {
   "cell_type": "code",
   "execution_count": 9,
   "id": "7037d9fc",
   "metadata": {},
   "outputs": [
    {
     "data": {
      "text/plain": [
       "0      22.000000\n",
       "1      38.000000\n",
       "2      26.000000\n",
       "3      35.000000\n",
       "4      35.000000\n",
       "         ...    \n",
       "886    27.000000\n",
       "887    19.000000\n",
       "888    29.699118\n",
       "889    26.000000\n",
       "890    32.000000\n",
       "Name: Age, Length: 891, dtype: float64"
      ]
     },
     "execution_count": 9,
     "metadata": {},
     "output_type": "execute_result"
    }
   ],
   "source": [
    "set"
   ]
  },
  {
   "cell_type": "code",
   "execution_count": 8,
   "id": "8f8116f9",
   "metadata": {
    "scrolled": true
   },
   "outputs": [
    {
     "data": {
      "text/plain": [
       "0      0.271174\n",
       "1      0.472229\n",
       "2      0.321438\n",
       "3      0.434531\n",
       "4      0.434531\n",
       "         ...   \n",
       "886    0.334004\n",
       "887    0.233476\n",
       "888    0.367921\n",
       "889    0.321438\n",
       "890    0.396833\n",
       "Name: Age, Length: 891, dtype: float64"
      ]
     },
     "execution_count": 8,
     "metadata": {},
     "output_type": "execute_result"
    }
   ],
   "source": [
    "normalize_edildi"
   ]
  },
  {
   "cell_type": "code",
   "execution_count": 10,
   "id": "01e6cc8c",
   "metadata": {},
   "outputs": [
    {
     "data": {
      "text/plain": [
       "0.2711736617240513"
      ]
     },
     "execution_count": 10,
     "metadata": {},
     "output_type": "execute_result"
    }
   ],
   "source": [
    "#örnek olarak birini kontrol edelim:\n",
    "(set[0] - set.min()) / (set.max() - set.min())\n",
    "#sonuç doğru."
   ]
  },
  {
   "cell_type": "code",
   "execution_count": 14,
   "id": "f1f2a044",
   "metadata": {},
   "outputs": [],
   "source": [
    "standardize_edildi = (set-set.mean()) / set.std()"
   ]
  },
  {
   "cell_type": "code",
   "execution_count": 15,
   "id": "ef82aa2b",
   "metadata": {},
   "outputs": [
    {
     "data": {
      "text/plain": [
       "-2.2518907367915677"
      ]
     },
     "execution_count": 15,
     "metadata": {},
     "output_type": "execute_result"
    }
   ],
   "source": [
    "standardize_edildi.min()"
   ]
  },
  {
   "cell_type": "code",
   "execution_count": 16,
   "id": "9cdd146b",
   "metadata": {},
   "outputs": [
    {
     "data": {
      "text/plain": [
       "3.8686989269435594"
      ]
     },
     "execution_count": 16,
     "metadata": {},
     "output_type": "execute_result"
    }
   ],
   "source": [
    "standardize_edildi.max()"
   ]
  },
  {
   "cell_type": "code",
   "execution_count": null,
   "id": "07444354",
   "metadata": {},
   "outputs": [],
   "source": [
    "# maximum absolute scaler, robust scaler - ARAŞTIR"
   ]
  },
  {
   "cell_type": "markdown",
   "id": "46492f3d",
   "metadata": {},
   "source": [
    "# Kesikli hale getirme (discretization)\n",
    "1. kategorik halde getirdiğimiz verilere aralık belirleriz.\n"
   ]
  },
  {
   "cell_type": "code",
   "execution_count": 19,
   "id": "f32e1cea",
   "metadata": {},
   "outputs": [
    {
     "data": {
      "text/plain": [
       "0      (18, 50]\n",
       "1      (18, 50]\n",
       "2      (18, 50]\n",
       "3      (18, 50]\n",
       "4      (18, 50]\n",
       "         ...   \n",
       "886    (18, 50]\n",
       "887    (18, 50]\n",
       "888    (18, 50]\n",
       "889    (18, 50]\n",
       "890    (18, 50]\n",
       "Name: Age, Length: 891, dtype: category\n",
       "Categories (3, interval[int64, right]): [(0, 18] < (18, 50] < (50, 120]]"
      ]
     },
     "execution_count": 19,
     "metadata": {},
     "output_type": "execute_result"
    }
   ],
   "source": [
    "yas_aralik = [0,18,50,120]\n",
    "pd.cut(x=set,bins=yas_aralik)"
   ]
  },
  {
   "cell_type": "code",
   "execution_count": 20,
   "id": "5b77d8b8",
   "metadata": {},
   "outputs": [
    {
     "data": {
      "text/plain": [
       "0      genç\n",
       "1      genç\n",
       "2      genç\n",
       "3      genç\n",
       "4      genç\n",
       "       ... \n",
       "886    genç\n",
       "887    genç\n",
       "888    genç\n",
       "889    genç\n",
       "890    genç\n",
       "Name: Age, Length: 891, dtype: category\n",
       "Categories (3, object): ['çocuk' < 'genç' < 'yaşlı']"
      ]
     },
     "execution_count": 20,
     "metadata": {},
     "output_type": "execute_result"
    }
   ],
   "source": [
    "pd.cut(x=set,bins=yas_aralik,labels=['çocuk','genç','yaşlı'])"
   ]
  },
  {
   "cell_type": "markdown",
   "id": "af4ee983",
   "metadata": {},
   "source": [
    "# İkili hale dönüştürme ((0-1) binary)\n",
    "- get_dummies(): bu fonksiyon, sürekli verileri ikili hale getirmede kullanılabilir."
   ]
  },
  {
   "cell_type": "code",
   "execution_count": 22,
   "id": "4c4ec7c0",
   "metadata": {},
   "outputs": [
    {
     "data": {
      "text/plain": [
       "0    S\n",
       "1    C\n",
       "2    S\n",
       "3    S\n",
       "4    S\n",
       "Name: Embarked, dtype: object"
      ]
     },
     "execution_count": 22,
     "metadata": {},
     "output_type": "execute_result"
    }
   ],
   "source": [
    "veri_seti.Embarked.head()"
   ]
  },
  {
   "cell_type": "code",
   "execution_count": 25,
   "id": "6e17d75c",
   "metadata": {},
   "outputs": [
    {
     "data": {
      "text/html": [
       "<div>\n",
       "<style scoped>\n",
       "    .dataframe tbody tr th:only-of-type {\n",
       "        vertical-align: middle;\n",
       "    }\n",
       "\n",
       "    .dataframe tbody tr th {\n",
       "        vertical-align: top;\n",
       "    }\n",
       "\n",
       "    .dataframe thead th {\n",
       "        text-align: right;\n",
       "    }\n",
       "</style>\n",
       "<table border=\"1\" class=\"dataframe\">\n",
       "  <thead>\n",
       "    <tr style=\"text-align: right;\">\n",
       "      <th></th>\n",
       "      <th>C</th>\n",
       "      <th>Q</th>\n",
       "      <th>S</th>\n",
       "    </tr>\n",
       "  </thead>\n",
       "  <tbody>\n",
       "    <tr>\n",
       "      <th>0</th>\n",
       "      <td>0</td>\n",
       "      <td>0</td>\n",
       "      <td>1</td>\n",
       "    </tr>\n",
       "    <tr>\n",
       "      <th>1</th>\n",
       "      <td>1</td>\n",
       "      <td>0</td>\n",
       "      <td>0</td>\n",
       "    </tr>\n",
       "    <tr>\n",
       "      <th>2</th>\n",
       "      <td>0</td>\n",
       "      <td>0</td>\n",
       "      <td>1</td>\n",
       "    </tr>\n",
       "    <tr>\n",
       "      <th>3</th>\n",
       "      <td>0</td>\n",
       "      <td>0</td>\n",
       "      <td>1</td>\n",
       "    </tr>\n",
       "    <tr>\n",
       "      <th>4</th>\n",
       "      <td>0</td>\n",
       "      <td>0</td>\n",
       "      <td>1</td>\n",
       "    </tr>\n",
       "    <tr>\n",
       "      <th>...</th>\n",
       "      <td>...</td>\n",
       "      <td>...</td>\n",
       "      <td>...</td>\n",
       "    </tr>\n",
       "    <tr>\n",
       "      <th>886</th>\n",
       "      <td>0</td>\n",
       "      <td>0</td>\n",
       "      <td>1</td>\n",
       "    </tr>\n",
       "    <tr>\n",
       "      <th>887</th>\n",
       "      <td>0</td>\n",
       "      <td>0</td>\n",
       "      <td>1</td>\n",
       "    </tr>\n",
       "    <tr>\n",
       "      <th>888</th>\n",
       "      <td>0</td>\n",
       "      <td>0</td>\n",
       "      <td>1</td>\n",
       "    </tr>\n",
       "    <tr>\n",
       "      <th>889</th>\n",
       "      <td>1</td>\n",
       "      <td>0</td>\n",
       "      <td>0</td>\n",
       "    </tr>\n",
       "    <tr>\n",
       "      <th>890</th>\n",
       "      <td>0</td>\n",
       "      <td>1</td>\n",
       "      <td>0</td>\n",
       "    </tr>\n",
       "  </tbody>\n",
       "</table>\n",
       "<p>891 rows × 3 columns</p>\n",
       "</div>"
      ],
      "text/plain": [
       "     C  Q  S\n",
       "0    0  0  1\n",
       "1    1  0  0\n",
       "2    0  0  1\n",
       "3    0  0  1\n",
       "4    0  0  1\n",
       "..  .. .. ..\n",
       "886  0  0  1\n",
       "887  0  0  1\n",
       "888  0  0  1\n",
       "889  1  0  0\n",
       "890  0  1  0\n",
       "\n",
       "[891 rows x 3 columns]"
      ]
     },
     "execution_count": 25,
     "metadata": {},
     "output_type": "execute_result"
    }
   ],
   "source": [
    "pd.get_dummies(veri_seti.Embarked)"
   ]
  },
  {
   "cell_type": "code",
   "execution_count": 26,
   "id": "54888431",
   "metadata": {},
   "outputs": [
    {
     "data": {
      "text/plain": [
       "0        male\n",
       "1      female\n",
       "2      female\n",
       "3      female\n",
       "4        male\n",
       "        ...  \n",
       "886      male\n",
       "887    female\n",
       "888    female\n",
       "889      male\n",
       "890      male\n",
       "Name: Sex, Length: 891, dtype: object"
      ]
     },
     "execution_count": 26,
     "metadata": {},
     "output_type": "execute_result"
    }
   ],
   "source": [
    "veri_seti.Sex"
   ]
  },
  {
   "cell_type": "code",
   "execution_count": 30,
   "id": "cfff9362",
   "metadata": {},
   "outputs": [
    {
     "data": {
      "text/html": [
       "<div>\n",
       "<style scoped>\n",
       "    .dataframe tbody tr th:only-of-type {\n",
       "        vertical-align: middle;\n",
       "    }\n",
       "\n",
       "    .dataframe tbody tr th {\n",
       "        vertical-align: top;\n",
       "    }\n",
       "\n",
       "    .dataframe thead th {\n",
       "        text-align: right;\n",
       "    }\n",
       "</style>\n",
       "<table border=\"1\" class=\"dataframe\">\n",
       "  <thead>\n",
       "    <tr style=\"text-align: right;\">\n",
       "      <th></th>\n",
       "      <th>cinsiyet_female</th>\n",
       "      <th>cinsiyet_male</th>\n",
       "    </tr>\n",
       "  </thead>\n",
       "  <tbody>\n",
       "    <tr>\n",
       "      <th>0</th>\n",
       "      <td>0</td>\n",
       "      <td>1</td>\n",
       "    </tr>\n",
       "    <tr>\n",
       "      <th>1</th>\n",
       "      <td>1</td>\n",
       "      <td>0</td>\n",
       "    </tr>\n",
       "    <tr>\n",
       "      <th>2</th>\n",
       "      <td>1</td>\n",
       "      <td>0</td>\n",
       "    </tr>\n",
       "    <tr>\n",
       "      <th>3</th>\n",
       "      <td>1</td>\n",
       "      <td>0</td>\n",
       "    </tr>\n",
       "    <tr>\n",
       "      <th>4</th>\n",
       "      <td>0</td>\n",
       "      <td>1</td>\n",
       "    </tr>\n",
       "    <tr>\n",
       "      <th>...</th>\n",
       "      <td>...</td>\n",
       "      <td>...</td>\n",
       "    </tr>\n",
       "    <tr>\n",
       "      <th>886</th>\n",
       "      <td>0</td>\n",
       "      <td>1</td>\n",
       "    </tr>\n",
       "    <tr>\n",
       "      <th>887</th>\n",
       "      <td>1</td>\n",
       "      <td>0</td>\n",
       "    </tr>\n",
       "    <tr>\n",
       "      <th>888</th>\n",
       "      <td>1</td>\n",
       "      <td>0</td>\n",
       "    </tr>\n",
       "    <tr>\n",
       "      <th>889</th>\n",
       "      <td>0</td>\n",
       "      <td>1</td>\n",
       "    </tr>\n",
       "    <tr>\n",
       "      <th>890</th>\n",
       "      <td>0</td>\n",
       "      <td>1</td>\n",
       "    </tr>\n",
       "  </tbody>\n",
       "</table>\n",
       "<p>891 rows × 2 columns</p>\n",
       "</div>"
      ],
      "text/plain": [
       "     cinsiyet_female  cinsiyet_male\n",
       "0                  0              1\n",
       "1                  1              0\n",
       "2                  1              0\n",
       "3                  1              0\n",
       "4                  0              1\n",
       "..               ...            ...\n",
       "886                0              1\n",
       "887                1              0\n",
       "888                1              0\n",
       "889                0              1\n",
       "890                0              1\n",
       "\n",
       "[891 rows x 2 columns]"
      ]
     },
     "execution_count": 30,
     "metadata": {},
     "output_type": "execute_result"
    }
   ],
   "source": [
    "pd.get_dummies(veri_seti.Sex,prefix=\"cinsiyet\")\n",
    "#drop_first parametresi ile sadece ilk sütunu almak mümkündür."
   ]
  },
  {
   "cell_type": "code",
   "execution_count": null,
   "id": "cc2a7495",
   "metadata": {},
   "outputs": [],
   "source": [
    "#qcut() fonksiyonu:"
   ]
  }
 ],
 "metadata": {
  "kernelspec": {
   "display_name": "Python 3 (ipykernel)",
   "language": "python",
   "name": "python3"
  },
  "language_info": {
   "codemirror_mode": {
    "name": "ipython",
    "version": 3
   },
   "file_extension": ".py",
   "mimetype": "text/x-python",
   "name": "python",
   "nbconvert_exporter": "python",
   "pygments_lexer": "ipython3",
   "version": "3.10.9"
  }
 },
 "nbformat": 4,
 "nbformat_minor": 5
}
