{
 "cells": [
  {
   "cell_type": "code",
   "execution_count": 1,
   "id": "7dae24c0",
   "metadata": {},
   "outputs": [],
   "source": [
    "#.TXT DOSYASINDAN VERİ OKUMA"
   ]
  },
  {
   "cell_type": "code",
   "execution_count": 2,
   "id": "bea0c142",
   "metadata": {},
   "outputs": [],
   "source": [
    "import pandas as pd"
   ]
  },
  {
   "cell_type": "code",
   "execution_count": 3,
   "id": "df7b1f20",
   "metadata": {},
   "outputs": [],
   "source": [
    "#örnek bir dosyanın ekran görüntüsü\n",
    "#isim, mevki, değer\n",
    "#cristiano ronaldo, sol kanat, 120m\n",
    "#kevin de bruyne, on numara, 100m\n",
    "#pepe, stoper, 30m"
   ]
  },
  {
   "cell_type": "code",
   "execution_count": 9,
   "id": "03296afa",
   "metadata": {
    "scrolled": true
   },
   "outputs": [],
   "source": [
    "df = pd.read_csv(\"C:/Users/kaptan/Desktop/Ben/Career/Data Science/Python/ogrenmeProjeleri/yardımcı eklentiler/veri.txt\")"
   ]
  },
  {
   "cell_type": "code",
   "execution_count": 15,
   "id": "5470eca9",
   "metadata": {},
   "outputs": [
    {
     "data": {
      "text/html": [
       "<div>\n",
       "<style scoped>\n",
       "    .dataframe tbody tr th:only-of-type {\n",
       "        vertical-align: middle;\n",
       "    }\n",
       "\n",
       "    .dataframe tbody tr th {\n",
       "        vertical-align: top;\n",
       "    }\n",
       "\n",
       "    .dataframe thead th {\n",
       "        text-align: right;\n",
       "    }\n",
       "</style>\n",
       "<table border=\"1\" class=\"dataframe\">\n",
       "  <thead>\n",
       "    <tr style=\"text-align: right;\">\n",
       "      <th></th>\n",
       "      <th>isim</th>\n",
       "      <th>mevki</th>\n",
       "      <th>değer</th>\n",
       "    </tr>\n",
       "  </thead>\n",
       "  <tbody>\n",
       "    <tr>\n",
       "      <th>0</th>\n",
       "      <td>Christiano Ronaldo</td>\n",
       "      <td>sol kanat</td>\n",
       "      <td>120m</td>\n",
       "    </tr>\n",
       "    <tr>\n",
       "      <th>1</th>\n",
       "      <td>Kevin De Bruyne</td>\n",
       "      <td>on numara</td>\n",
       "      <td>100m</td>\n",
       "    </tr>\n",
       "    <tr>\n",
       "      <th>2</th>\n",
       "      <td>Pepe</td>\n",
       "      <td>stoper</td>\n",
       "      <td>30m</td>\n",
       "    </tr>\n",
       "  </tbody>\n",
       "</table>\n",
       "</div>"
      ],
      "text/plain": [
       "                 isim       mevki  değer\n",
       "0  Christiano Ronaldo   sol kanat   120m\n",
       "1     Kevin De Bruyne   on numara   100m\n",
       "2                Pepe      stoper    30m"
      ]
     },
     "execution_count": 15,
     "metadata": {},
     "output_type": "execute_result"
    }
   ],
   "source": [
    "df"
   ]
  },
  {
   "cell_type": "code",
   "execution_count": 16,
   "id": "a3430351",
   "metadata": {},
   "outputs": [],
   "source": [
    "#.CSV DOSYASINDAN VERİ OKUMA"
   ]
  },
  {
   "cell_type": "code",
   "execution_count": 26,
   "id": "cee9140f",
   "metadata": {
    "scrolled": true
   },
   "outputs": [],
   "source": [
    "df = pd.read_csv(\"C:/Users/kaptan/Desktop/Ben/Career/Data Science/Python/ogrenmeProjeleri/yardımcı eklentiler/veri2.csv\")"
   ]
  },
  {
   "cell_type": "code",
   "execution_count": 21,
   "id": "fe212d76",
   "metadata": {},
   "outputs": [
    {
     "data": {
      "text/html": [
       "<div>\n",
       "<style scoped>\n",
       "    .dataframe tbody tr th:only-of-type {\n",
       "        vertical-align: middle;\n",
       "    }\n",
       "\n",
       "    .dataframe tbody tr th {\n",
       "        vertical-align: top;\n",
       "    }\n",
       "\n",
       "    .dataframe thead th {\n",
       "        text-align: right;\n",
       "    }\n",
       "</style>\n",
       "<table border=\"1\" class=\"dataframe\">\n",
       "  <thead>\n",
       "    <tr style=\"text-align: right;\">\n",
       "      <th></th>\n",
       "      <th>isim;mevki;değer</th>\n",
       "    </tr>\n",
       "  </thead>\n",
       "  <tbody>\n",
       "    <tr>\n",
       "      <th>0</th>\n",
       "      <td>ronaldo;sol kanat;120m</td>\n",
       "    </tr>\n",
       "    <tr>\n",
       "      <th>1</th>\n",
       "      <td>bruyne;on numara;100m</td>\n",
       "    </tr>\n",
       "    <tr>\n",
       "      <th>2</th>\n",
       "      <td>pepe;stoper;30m</td>\n",
       "    </tr>\n",
       "  </tbody>\n",
       "</table>\n",
       "</div>"
      ],
      "text/plain": [
       "         isim;mevki;değer\n",
       "0  ronaldo;sol kanat;120m\n",
       "1   bruyne;on numara;100m\n",
       "2         pepe;stoper;30m"
      ]
     },
     "execution_count": 21,
     "metadata": {},
     "output_type": "execute_result"
    }
   ],
   "source": [
    "df #.csv dosyası utf-8 (vigülle ayrılmış *.csv dosyasıdır. aksi takdirde hata veriyor.)"
   ]
  }
 ],
 "metadata": {
  "kernelspec": {
   "display_name": "Python 3 (ipykernel)",
   "language": "python",
   "name": "python3"
  },
  "language_info": {
   "codemirror_mode": {
    "name": "ipython",
    "version": 3
   },
   "file_extension": ".py",
   "mimetype": "text/x-python",
   "name": "python",
   "nbconvert_exporter": "python",
   "pygments_lexer": "ipython3",
   "version": "3.10.9"
  }
 },
 "nbformat": 4,
 "nbformat_minor": 5
}
