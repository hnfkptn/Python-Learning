{
 "cells": [
  {
   "cell_type": "markdown",
   "id": "b56cf69e",
   "metadata": {},
   "source": [
    "# Aykırı veri işlemleri\n",
    "\n",
    "- genellikle sürekli veriler için uygulanır. (sürekli veriler sayısaldırlar?)\n",
    "- kategorik verilerde uygulanması pek mantıklı değildir.\n",
    "- veri setinde işlemler tamamlanmış olmalıdır.\n",
    "aykırı veri işlemlerini yapmak için öncelikle eksik verilerle ilgilenmeliyiz.\n"
   ]
  },
  {
   "cell_type": "code",
   "execution_count": 1,
   "id": "63c7623b",
   "metadata": {},
   "outputs": [],
   "source": [
    "import pandas as pd\n",
    "import numpy as np"
   ]
  },
  {
   "cell_type": "code",
   "execution_count": 3,
   "id": "2e476cc6",
   "metadata": {},
   "outputs": [],
   "source": [
    "veri_seti = pd.read_csv(\"https://raw.githubusercontent.com/datasciencedojo/datasets/master/titanic.csv\")"
   ]
  },
  {
   "cell_type": "code",
   "execution_count": 4,
   "id": "b5792e16",
   "metadata": {},
   "outputs": [
    {
     "data": {
      "text/html": [
       "<div>\n",
       "<style scoped>\n",
       "    .dataframe tbody tr th:only-of-type {\n",
       "        vertical-align: middle;\n",
       "    }\n",
       "\n",
       "    .dataframe tbody tr th {\n",
       "        vertical-align: top;\n",
       "    }\n",
       "\n",
       "    .dataframe thead th {\n",
       "        text-align: right;\n",
       "    }\n",
       "</style>\n",
       "<table border=\"1\" class=\"dataframe\">\n",
       "  <thead>\n",
       "    <tr style=\"text-align: right;\">\n",
       "      <th></th>\n",
       "      <th>PassengerId</th>\n",
       "      <th>Survived</th>\n",
       "      <th>Pclass</th>\n",
       "      <th>Name</th>\n",
       "      <th>Sex</th>\n",
       "      <th>Age</th>\n",
       "      <th>SibSp</th>\n",
       "      <th>Parch</th>\n",
       "      <th>Ticket</th>\n",
       "      <th>Fare</th>\n",
       "      <th>Cabin</th>\n",
       "      <th>Embarked</th>\n",
       "    </tr>\n",
       "  </thead>\n",
       "  <tbody>\n",
       "    <tr>\n",
       "      <th>0</th>\n",
       "      <td>1</td>\n",
       "      <td>0</td>\n",
       "      <td>3</td>\n",
       "      <td>Braund, Mr. Owen Harris</td>\n",
       "      <td>male</td>\n",
       "      <td>22.0</td>\n",
       "      <td>1</td>\n",
       "      <td>0</td>\n",
       "      <td>A/5 21171</td>\n",
       "      <td>7.2500</td>\n",
       "      <td>NaN</td>\n",
       "      <td>S</td>\n",
       "    </tr>\n",
       "    <tr>\n",
       "      <th>1</th>\n",
       "      <td>2</td>\n",
       "      <td>1</td>\n",
       "      <td>1</td>\n",
       "      <td>Cumings, Mrs. John Bradley (Florence Briggs Th...</td>\n",
       "      <td>female</td>\n",
       "      <td>38.0</td>\n",
       "      <td>1</td>\n",
       "      <td>0</td>\n",
       "      <td>PC 17599</td>\n",
       "      <td>71.2833</td>\n",
       "      <td>C85</td>\n",
       "      <td>C</td>\n",
       "    </tr>\n",
       "    <tr>\n",
       "      <th>2</th>\n",
       "      <td>3</td>\n",
       "      <td>1</td>\n",
       "      <td>3</td>\n",
       "      <td>Heikkinen, Miss. Laina</td>\n",
       "      <td>female</td>\n",
       "      <td>26.0</td>\n",
       "      <td>0</td>\n",
       "      <td>0</td>\n",
       "      <td>STON/O2. 3101282</td>\n",
       "      <td>7.9250</td>\n",
       "      <td>NaN</td>\n",
       "      <td>S</td>\n",
       "    </tr>\n",
       "    <tr>\n",
       "      <th>3</th>\n",
       "      <td>4</td>\n",
       "      <td>1</td>\n",
       "      <td>1</td>\n",
       "      <td>Futrelle, Mrs. Jacques Heath (Lily May Peel)</td>\n",
       "      <td>female</td>\n",
       "      <td>35.0</td>\n",
       "      <td>1</td>\n",
       "      <td>0</td>\n",
       "      <td>113803</td>\n",
       "      <td>53.1000</td>\n",
       "      <td>C123</td>\n",
       "      <td>S</td>\n",
       "    </tr>\n",
       "    <tr>\n",
       "      <th>4</th>\n",
       "      <td>5</td>\n",
       "      <td>0</td>\n",
       "      <td>3</td>\n",
       "      <td>Allen, Mr. William Henry</td>\n",
       "      <td>male</td>\n",
       "      <td>35.0</td>\n",
       "      <td>0</td>\n",
       "      <td>0</td>\n",
       "      <td>373450</td>\n",
       "      <td>8.0500</td>\n",
       "      <td>NaN</td>\n",
       "      <td>S</td>\n",
       "    </tr>\n",
       "    <tr>\n",
       "      <th>...</th>\n",
       "      <td>...</td>\n",
       "      <td>...</td>\n",
       "      <td>...</td>\n",
       "      <td>...</td>\n",
       "      <td>...</td>\n",
       "      <td>...</td>\n",
       "      <td>...</td>\n",
       "      <td>...</td>\n",
       "      <td>...</td>\n",
       "      <td>...</td>\n",
       "      <td>...</td>\n",
       "      <td>...</td>\n",
       "    </tr>\n",
       "    <tr>\n",
       "      <th>886</th>\n",
       "      <td>887</td>\n",
       "      <td>0</td>\n",
       "      <td>2</td>\n",
       "      <td>Montvila, Rev. Juozas</td>\n",
       "      <td>male</td>\n",
       "      <td>27.0</td>\n",
       "      <td>0</td>\n",
       "      <td>0</td>\n",
       "      <td>211536</td>\n",
       "      <td>13.0000</td>\n",
       "      <td>NaN</td>\n",
       "      <td>S</td>\n",
       "    </tr>\n",
       "    <tr>\n",
       "      <th>887</th>\n",
       "      <td>888</td>\n",
       "      <td>1</td>\n",
       "      <td>1</td>\n",
       "      <td>Graham, Miss. Margaret Edith</td>\n",
       "      <td>female</td>\n",
       "      <td>19.0</td>\n",
       "      <td>0</td>\n",
       "      <td>0</td>\n",
       "      <td>112053</td>\n",
       "      <td>30.0000</td>\n",
       "      <td>B42</td>\n",
       "      <td>S</td>\n",
       "    </tr>\n",
       "    <tr>\n",
       "      <th>888</th>\n",
       "      <td>889</td>\n",
       "      <td>0</td>\n",
       "      <td>3</td>\n",
       "      <td>Johnston, Miss. Catherine Helen \"Carrie\"</td>\n",
       "      <td>female</td>\n",
       "      <td>NaN</td>\n",
       "      <td>1</td>\n",
       "      <td>2</td>\n",
       "      <td>W./C. 6607</td>\n",
       "      <td>23.4500</td>\n",
       "      <td>NaN</td>\n",
       "      <td>S</td>\n",
       "    </tr>\n",
       "    <tr>\n",
       "      <th>889</th>\n",
       "      <td>890</td>\n",
       "      <td>1</td>\n",
       "      <td>1</td>\n",
       "      <td>Behr, Mr. Karl Howell</td>\n",
       "      <td>male</td>\n",
       "      <td>26.0</td>\n",
       "      <td>0</td>\n",
       "      <td>0</td>\n",
       "      <td>111369</td>\n",
       "      <td>30.0000</td>\n",
       "      <td>C148</td>\n",
       "      <td>C</td>\n",
       "    </tr>\n",
       "    <tr>\n",
       "      <th>890</th>\n",
       "      <td>891</td>\n",
       "      <td>0</td>\n",
       "      <td>3</td>\n",
       "      <td>Dooley, Mr. Patrick</td>\n",
       "      <td>male</td>\n",
       "      <td>32.0</td>\n",
       "      <td>0</td>\n",
       "      <td>0</td>\n",
       "      <td>370376</td>\n",
       "      <td>7.7500</td>\n",
       "      <td>NaN</td>\n",
       "      <td>Q</td>\n",
       "    </tr>\n",
       "  </tbody>\n",
       "</table>\n",
       "<p>891 rows × 12 columns</p>\n",
       "</div>"
      ],
      "text/plain": [
       "     PassengerId  Survived  Pclass  \\\n",
       "0              1         0       3   \n",
       "1              2         1       1   \n",
       "2              3         1       3   \n",
       "3              4         1       1   \n",
       "4              5         0       3   \n",
       "..           ...       ...     ...   \n",
       "886          887         0       2   \n",
       "887          888         1       1   \n",
       "888          889         0       3   \n",
       "889          890         1       1   \n",
       "890          891         0       3   \n",
       "\n",
       "                                                  Name     Sex   Age  SibSp  \\\n",
       "0                              Braund, Mr. Owen Harris    male  22.0      1   \n",
       "1    Cumings, Mrs. John Bradley (Florence Briggs Th...  female  38.0      1   \n",
       "2                               Heikkinen, Miss. Laina  female  26.0      0   \n",
       "3         Futrelle, Mrs. Jacques Heath (Lily May Peel)  female  35.0      1   \n",
       "4                             Allen, Mr. William Henry    male  35.0      0   \n",
       "..                                                 ...     ...   ...    ...   \n",
       "886                              Montvila, Rev. Juozas    male  27.0      0   \n",
       "887                       Graham, Miss. Margaret Edith  female  19.0      0   \n",
       "888           Johnston, Miss. Catherine Helen \"Carrie\"  female   NaN      1   \n",
       "889                              Behr, Mr. Karl Howell    male  26.0      0   \n",
       "890                                Dooley, Mr. Patrick    male  32.0      0   \n",
       "\n",
       "     Parch            Ticket     Fare Cabin Embarked  \n",
       "0        0         A/5 21171   7.2500   NaN        S  \n",
       "1        0          PC 17599  71.2833   C85        C  \n",
       "2        0  STON/O2. 3101282   7.9250   NaN        S  \n",
       "3        0            113803  53.1000  C123        S  \n",
       "4        0            373450   8.0500   NaN        S  \n",
       "..     ...               ...      ...   ...      ...  \n",
       "886      0            211536  13.0000   NaN        S  \n",
       "887      0            112053  30.0000   B42        S  \n",
       "888      2        W./C. 6607  23.4500   NaN        S  \n",
       "889      0            111369  30.0000  C148        C  \n",
       "890      0            370376   7.7500   NaN        Q  \n",
       "\n",
       "[891 rows x 12 columns]"
      ]
     },
     "execution_count": 4,
     "metadata": {},
     "output_type": "execute_result"
    }
   ],
   "source": [
    "veri_seti"
   ]
  },
  {
   "cell_type": "code",
   "execution_count": 9,
   "id": "c6e3a95f",
   "metadata": {},
   "outputs": [
    {
     "data": {
      "text/plain": [
       "177"
      ]
     },
     "execution_count": 9,
     "metadata": {},
     "output_type": "execute_result"
    }
   ],
   "source": [
    "veri_seti.Age.isnull().sum()"
   ]
  },
  {
   "cell_type": "code",
   "execution_count": 12,
   "id": "f39b2293",
   "metadata": {},
   "outputs": [
    {
     "data": {
      "text/plain": [
       "29.69911764705882"
      ]
     },
     "execution_count": 12,
     "metadata": {},
     "output_type": "execute_result"
    }
   ],
   "source": [
    "veri_seti.Age.mean() #veri setindeki age sütununun ortalamasını verir."
   ]
  },
  {
   "cell_type": "code",
   "execution_count": 40,
   "id": "7e2ff870",
   "metadata": {
    "scrolled": true
   },
   "outputs": [],
   "source": [
    "set = veri_seti.Age.fillna(value=veri_seti.Age.mean()) #yaşın ortalma değeri ile doldurduk."
   ]
  },
  {
   "cell_type": "code",
   "execution_count": 15,
   "id": "5f2cd549",
   "metadata": {},
   "outputs": [
    {
     "data": {
      "text/plain": [
       "0"
      ]
     },
     "execution_count": 15,
     "metadata": {},
     "output_type": "execute_result"
    }
   ],
   "source": [
    "set.isnull().sum()"
   ]
  },
  {
   "cell_type": "code",
   "execution_count": 16,
   "id": "f6d850f9",
   "metadata": {},
   "outputs": [
    {
     "data": {
      "text/plain": [
       "count    891.000000\n",
       "mean      29.699118\n",
       "std       13.002015\n",
       "min        0.420000\n",
       "25%       22.000000\n",
       "50%       29.699118\n",
       "75%       35.000000\n",
       "max       80.000000\n",
       "Name: Age, dtype: float64"
      ]
     },
     "execution_count": 16,
     "metadata": {},
     "output_type": "execute_result"
    }
   ],
   "source": [
    "set.describe()\n",
    "#min değer ile %25'lik değer arsaındaki fark çok fazla\n",
    "#mex değer ile %75'lik değer arasındaki değer çok fazla.\n",
    "#ama ortadaki değerler birbirinden çok da fazla değil. (Q1, Q2, Q3 ortadaki değerlerdir.)\n",
    "#bu durumda burada bir aykırı değer var demek mümkündür.\n",
    "# %25=Q1 ; %50=Q2 ; %75=Q3"
   ]
  },
  {
   "cell_type": "markdown",
   "id": "b7ec45c2",
   "metadata": {},
   "source": [
    "Aykırı durumların tespit edilmesinde boxplot kullanılabilir.\n",
    "IQR değeri Q3 ile Q1 arasındaki değerdir. bu sayede outliner değerileri bulabiliriz.\n",
    "İki yöntemden bahsedilebilir:\n",
    "1. IQR yöntemi\n",
    "2. Z-Skoru yöntemi"
   ]
  },
  {
   "cell_type": "markdown",
   "id": "7c978000",
   "metadata": {},
   "source": [
    "# 1. yöntem: IQR yöntemi"
   ]
  },
  {
   "cell_type": "code",
   "execution_count": 17,
   "id": "35d3395d",
   "metadata": {},
   "outputs": [],
   "source": [
    "%matplotlib inline"
   ]
  },
  {
   "cell_type": "code",
   "execution_count": 18,
   "id": "95c142b2",
   "metadata": {},
   "outputs": [
    {
     "data": {
      "text/plain": [
       "<Axes: >"
      ]
     },
     "execution_count": 18,
     "metadata": {},
     "output_type": "execute_result"
    },
    {
     "data": {
      "image/png": "[encoded data removed]",
      "text/plain": [
       "<Figure size 640x480 with 1 Axes>"
      ]
     },
     "metadata": {},
     "output_type": "display_data"
    }
   ],
   "source": [
    "set.plot.box()"
   ]
  },
  {
   "cell_type": "code",
   "execution_count": 24,
   "id": "6bfd5c03",
   "metadata": {},
   "outputs": [],
   "source": [
    "q1=set.quantile(0.25)\n",
    "q3=set.quantile(0.75)\n",
    "iqr=q3-q1"
   ]
  },
  {
   "cell_type": "code",
   "execution_count": 25,
   "id": "b774fc1c",
   "metadata": {},
   "outputs": [
    {
     "data": {
      "text/plain": [
       "22.0"
      ]
     },
     "execution_count": 25,
     "metadata": {},
     "output_type": "execute_result"
    }
   ],
   "source": [
    "q1"
   ]
  },
  {
   "cell_type": "code",
   "execution_count": 26,
   "id": "5cfe1cf3",
   "metadata": {},
   "outputs": [
    {
     "data": {
      "text/plain": [
       "35.0"
      ]
     },
     "execution_count": 26,
     "metadata": {},
     "output_type": "execute_result"
    }
   ],
   "source": [
    "q3"
   ]
  },
  {
   "cell_type": "code",
   "execution_count": 22,
   "id": "78f7cde2",
   "metadata": {},
   "outputs": [
    {
     "data": {
      "text/plain": [
       "13.0"
      ]
     },
     "execution_count": 22,
     "metadata": {},
     "output_type": "execute_result"
    }
   ],
   "source": [
    "iqr"
   ]
  },
  {
   "cell_type": "code",
   "execution_count": 27,
   "id": "8b6de3ae",
   "metadata": {},
   "outputs": [
    {
     "data": {
      "text/plain": [
       "54.5"
      ]
     },
     "execution_count": 27,
     "metadata": {},
     "output_type": "execute_result"
    }
   ],
   "source": [
    "q3 + 1.5*iqr"
   ]
  },
  {
   "cell_type": "code",
   "execution_count": 28,
   "id": "7e3290ca",
   "metadata": {},
   "outputs": [
    {
     "data": {
      "text/plain": [
       "2.5"
      ]
     },
     "execution_count": 28,
     "metadata": {},
     "output_type": "execute_result"
    }
   ],
   "source": [
    "q1 - 1.5*iqr"
   ]
  },
  {
   "cell_type": "code",
   "execution_count": 29,
   "id": "a44b7374",
   "metadata": {},
   "outputs": [],
   "source": [
    "alt_sinir = q1 - 1.5*iqr\n",
    "ust_sinir = q3 + 1.5*iqr\n",
    "#bu değerler arasında olmayan veriler aykırı verilerdir."
   ]
  },
  {
   "cell_type": "code",
   "execution_count": 33,
   "id": "f022bba9",
   "metadata": {},
   "outputs": [
    {
     "data": {
      "text/plain": [
       "7      2.00\n",
       "16     2.00\n",
       "78     0.83\n",
       "119    2.00\n",
       "164    1.00\n",
       "172    1.00\n",
       "183    1.00\n",
       "205    2.00\n",
       "297    2.00\n",
       "305    0.92\n",
       "340    2.00\n",
       "381    1.00\n",
       "386    1.00\n",
       "469    0.75\n",
       "479    2.00\n",
       "530    2.00\n",
       "642    2.00\n",
       "644    0.75\n",
       "755    0.67\n",
       "788    1.00\n",
       "803    0.42\n",
       "824    2.00\n",
       "827    1.00\n",
       "831    0.83\n",
       "Name: Age, dtype: float64"
      ]
     },
     "execution_count": 33,
     "metadata": {},
     "output_type": "execute_result"
    }
   ],
   "source": [
    "set[set<alt_sinir] #alt sınırdan küçük aykırı veriler"
   ]
  },
  {
   "cell_type": "code",
   "execution_count": 34,
   "id": "2a6791fa",
   "metadata": {},
   "outputs": [
    {
     "data": {
      "text/plain": [
       "11     58.0\n",
       "15     55.0\n",
       "33     66.0\n",
       "54     65.0\n",
       "94     59.0\n",
       "96     71.0\n",
       "116    70.5\n",
       "152    55.5\n",
       "170    61.0\n",
       "174    56.0\n",
       "195    58.0\n",
       "232    59.0\n",
       "252    62.0\n",
       "268    58.0\n",
       "275    63.0\n",
       "280    65.0\n",
       "326    61.0\n",
       "366    60.0\n",
       "438    64.0\n",
       "456    65.0\n",
       "467    56.0\n",
       "483    63.0\n",
       "487    58.0\n",
       "492    55.0\n",
       "493    71.0\n",
       "545    64.0\n",
       "555    62.0\n",
       "570    62.0\n",
       "587    60.0\n",
       "625    61.0\n",
       "626    57.0\n",
       "630    80.0\n",
       "647    56.0\n",
       "659    58.0\n",
       "672    70.0\n",
       "684    60.0\n",
       "694    60.0\n",
       "745    70.0\n",
       "772    57.0\n",
       "829    62.0\n",
       "851    74.0\n",
       "879    56.0\n",
       "Name: Age, dtype: float64"
      ]
     },
     "execution_count": 34,
     "metadata": {},
     "output_type": "execute_result"
    }
   ],
   "source": [
    "set[set>ust_sinir] #üst sınırdan büyük aykırı veriler"
   ]
  },
  {
   "cell_type": "code",
   "execution_count": 35,
   "id": "87736da8",
   "metadata": {},
   "outputs": [],
   "source": [
    "# aykırı verileri sınır değerlerine taşıyalım:\n",
    "set[set<alt_sinir] = alt_sinir\n",
    "set[set>ust_sinir] = ust_sinir"
   ]
  },
  {
   "cell_type": "code",
   "execution_count": 37,
   "id": "4d47d68a",
   "metadata": {},
   "outputs": [
    {
     "data": {
      "text/plain": [
       "count    891.000000\n",
       "mean      29.376817\n",
       "std       12.062035\n",
       "min        2.500000\n",
       "25%       22.000000\n",
       "50%       29.699118\n",
       "75%       35.000000\n",
       "max       54.500000\n",
       "Name: Age, dtype: float64"
      ]
     },
     "execution_count": 37,
     "metadata": {},
     "output_type": "execute_result"
    }
   ],
   "source": [
    "set.describe()"
   ]
  },
  {
   "cell_type": "code",
   "execution_count": 38,
   "id": "d1d1c656",
   "metadata": {},
   "outputs": [
    {
     "data": {
      "text/plain": [
       "<Axes: >"
      ]
     },
     "execution_count": 38,
     "metadata": {},
     "output_type": "execute_result"
    },
    {
     "data": {
      "image/png": "[encoded data removed]",
      "text/plain": [
       "<Figure size 640x480 with 1 Axes>"
      ]
     },
     "metadata": {},
     "output_type": "display_data"
    }
   ],
   "source": [
    "set.plot.box()"
   ]
  },
  {
   "cell_type": "markdown",
   "id": "03a05a63",
   "metadata": {},
   "source": [
    "# 2. yöntem: Z-Skoru yöntemi\n",
    "- verilerin normal dağılıma uyduğu varsayılır.\n",
    "eğer çalıştığımız veriler normal dağılıma uymuyorsa bu yöntem düzgün çalışmaz.\n",
    "normal dağılıma uymuyorsa, normal dağılıma uymuyorsa, normal dağılıma uyması için bir takım işlemler yapılabilir."
   ]
  },
  {
   "cell_type": "code",
   "execution_count": 39,
   "id": "0788e80d",
   "metadata": {},
   "outputs": [
    {
     "data": {
      "text/plain": [
       "<Axes: ylabel='Frequency'>"
      ]
     },
     "execution_count": 39,
     "metadata": {},
     "output_type": "execute_result"
    },
    {
     "data": {
      "image/png": "[encoded data removed]",
      "text/plain": [
       "<Figure size 640x480 with 1 Axes>"
      ]
     },
     "metadata": {},
     "output_type": "display_data"
    }
   ],
   "source": [
    "set.plot.hist() #dağılımını görmek için kullandık.\n",
    "#aşağıdaki grafik aykırı verileri olmayan veri setinin dağılım grafiği"
   ]
  },
  {
   "cell_type": "code",
   "execution_count": 41,
   "id": "4fa847c9",
   "metadata": {},
   "outputs": [
    {
     "data": {
      "text/plain": [
       "<Axes: ylabel='Frequency'>"
      ]
     },
     "execution_count": 41,
     "metadata": {},
     "output_type": "execute_result"
    },
    {
     "data": {
      "image/png": "[encoded data removed]",
      "text/plain": [
       "<Figure size 640x480 with 1 Axes>"
      ]
     },
     "metadata": {},
     "output_type": "display_data"
    }
   ],
   "source": [
    "set.plot.hist()\n",
    "#aşağıdaki grafik aykırı verileri olman veri setinin dağılım grafiği"
   ]
  },
  {
   "cell_type": "code",
   "execution_count": 42,
   "id": "67c2a54d",
   "metadata": {},
   "outputs": [
    {
     "data": {
      "text/plain": [
       "count    891.000000\n",
       "mean      29.699118\n",
       "std       13.002015\n",
       "min        0.420000\n",
       "25%       22.000000\n",
       "50%       29.699118\n",
       "75%       35.000000\n",
       "max       80.000000\n",
       "Name: Age, dtype: float64"
      ]
     },
     "execution_count": 42,
     "metadata": {},
     "output_type": "execute_result"
    }
   ],
   "source": [
    "set.describe()"
   ]
  },
  {
   "cell_type": "code",
   "execution_count": 46,
   "id": "5580f8d2",
   "metadata": {},
   "outputs": [
    {
     "data": {
      "text/plain": [
       "13.002015226002884"
      ]
     },
     "execution_count": 46,
     "metadata": {},
     "output_type": "execute_result"
    }
   ],
   "source": [
    "set.std() #standart sapma"
   ]
  },
  {
   "cell_type": "code",
   "execution_count": 47,
   "id": "9e29b4f9",
   "metadata": {},
   "outputs": [
    {
     "data": {
      "text/plain": [
       "29.69911764705882"
      ]
     },
     "execution_count": 47,
     "metadata": {},
     "output_type": "execute_result"
    }
   ],
   "source": [
    "set.mean() #ortalama"
   ]
  },
  {
   "cell_type": "code",
   "execution_count": 49,
   "id": "f1890ad0",
   "metadata": {},
   "outputs": [
    {
     "data": {
      "text/plain": [
       "6      54.0\n",
       "11     58.0\n",
       "15     55.0\n",
       "30     40.0\n",
       "33     66.0\n",
       "       ... \n",
       "862    48.0\n",
       "865    42.0\n",
       "871    47.0\n",
       "873    47.0\n",
       "879    56.0\n",
       "Name: Age, Length: 163, dtype: float64"
      ]
     },
     "execution_count": 49,
     "metadata": {},
     "output_type": "execute_result"
    }
   ],
   "source": [
    "#ortalamadan 3 std aşanları kırpmaya çalışacağız:\n",
    "set[set>set.std()*3]"
   ]
  },
  {
   "cell_type": "code",
   "execution_count": null,
   "id": "10cd10e9",
   "metadata": {},
   "outputs": [],
   "source": []
  },
  {
   "cell_type": "code",
   "execution_count": null,
   "id": "f16988b0",
   "metadata": {},
   "outputs": [],
   "source": []
  },
  {
   "cell_type": "code",
   "execution_count": null,
   "id": "5429d2e9",
   "metadata": {},
   "outputs": [],
   "source": []
  },
  {
   "cell_type": "code",
   "execution_count": null,
   "id": "106932e9",
   "metadata": {},
   "outputs": [],
   "source": []
  },
  {
   "cell_type": "code",
   "execution_count": null,
   "id": "2fc6a9af",
   "metadata": {},
   "outputs": [],
   "source": []
  },
  {
   "cell_type": "code",
   "execution_count": null,
   "id": "8dab0da0",
   "metadata": {},
   "outputs": [],
   "source": []
  },
  {
   "cell_type": "code",
   "execution_count": null,
   "id": "c8e4074b",
   "metadata": {},
   "outputs": [],
   "source": []
  },
  {
   "cell_type": "code",
   "execution_count": null,
   "id": "18c2e103",
   "metadata": {},
   "outputs": [],
   "source": []
  }
 ],
 "metadata": {
  "kernelspec": {
   "display_name": "Python 3 (ipykernel)",
   "language": "python",
   "name": "python3"
  },
  "language_info": {
   "codemirror_mode": {
    "name": "ipython",
    "version": 3
   },
   "file_extension": ".py",
   "mimetype": "text/x-python",
   "name": "python",
   "nbconvert_exporter": "python",
   "pygments_lexer": "ipython3",
   "version": "3.10.9"
  }
 },
 "nbformat": 4,
 "nbformat_minor": 5
}
