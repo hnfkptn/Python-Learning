{
 "cells": [
  {
   "cell_type": "code",
   "execution_count": 43,
   "id": "fe0c12d8",
   "metadata": {},
   "outputs": [],
   "source": [
    "#numpy dizisi oluşturmak için temelde iki yol vardır. bunlardan ilki numpy kütüphanesinin bize sunduğu fonksiyonları kullanarak\n",
    "#bir dizi oluşturmaktır. diğeri ise pythondaki list ve tuple veri yapılarını numpy fonksiyonunda çağırarak kullanmaktır."
   ]
  },
  {
   "cell_type": "code",
   "execution_count": 44,
   "id": "3ae52f23",
   "metadata": {},
   "outputs": [],
   "source": [
    "#dizi(satır,sütun) şeklinde değer verilir."
   ]
  },
  {
   "cell_type": "code",
   "execution_count": 45,
   "id": "34aa1a63",
   "metadata": {},
   "outputs": [],
   "source": [
    "import numpy as np"
   ]
  },
  {
   "cell_type": "code",
   "execution_count": 46,
   "id": "c10e9693",
   "metadata": {},
   "outputs": [],
   "source": [
    "#NUMPY KÜTÜPHANESİNİ KULLANARAK NUMPY DİZİSİ OLUŞTURMA"
   ]
  },
  {
   "cell_type": "code",
   "execution_count": 47,
   "id": "f724e88c",
   "metadata": {},
   "outputs": [],
   "source": [
    "#zeros()\n",
    "#istenilen boyut ve veri türüne göre sıfır değeri ile dolu bir dizi oluşturur\n",
    "veri = np.zeros((3,2))"
   ]
  },
  {
   "cell_type": "code",
   "execution_count": 48,
   "id": "a7477e0e",
   "metadata": {},
   "outputs": [
    {
     "data": {
      "text/plain": [
       "array([[0., 0.],\n",
       "       [0., 0.],\n",
       "       [0., 0.]])"
      ]
     },
     "execution_count": 48,
     "metadata": {},
     "output_type": "execute_result"
    }
   ],
   "source": [
    "veri"
   ]
  },
  {
   "cell_type": "code",
   "execution_count": 49,
   "id": "fe2c0e97",
   "metadata": {},
   "outputs": [
    {
     "data": {
      "text/plain": [
       "(3, 2)"
      ]
     },
     "execution_count": 49,
     "metadata": {},
     "output_type": "execute_result"
    }
   ],
   "source": [
    "veri.shape #veri değişkeninin boyutunu gösterir"
   ]
  },
  {
   "cell_type": "code",
   "execution_count": 50,
   "id": "dfa300a1",
   "metadata": {},
   "outputs": [],
   "source": [
    "#ones()\n",
    "#istenilen boyut ve veri türüne göre bir değeri ile dolu bir dizi oluşturur\n",
    "dizi = np.ones((2,3))"
   ]
  },
  {
   "cell_type": "code",
   "execution_count": 51,
   "id": "0385b163",
   "metadata": {},
   "outputs": [
    {
     "data": {
      "text/plain": [
       "array([[0., 0.],\n",
       "       [0., 0.],\n",
       "       [0., 0.]])"
      ]
     },
     "execution_count": 51,
     "metadata": {},
     "output_type": "execute_result"
    }
   ],
   "source": [
    "veri"
   ]
  },
  {
   "cell_type": "code",
   "execution_count": 52,
   "id": "b6e45802",
   "metadata": {},
   "outputs": [
    {
     "data": {
      "text/plain": [
       "(3, 2)"
      ]
     },
     "execution_count": 52,
     "metadata": {},
     "output_type": "execute_result"
    }
   ],
   "source": [
    "veri.shape"
   ]
  },
  {
   "cell_type": "code",
   "execution_count": 53,
   "id": "5978fe14",
   "metadata": {},
   "outputs": [],
   "source": [
    "#full()\n",
    "#istenilen boyut ve veri türüne göre bir dizi veya herhangi bir sayı ile dolu bir dizi oluşturur.\n",
    "#full() fonksiyonu kullanılarak, ones() ve zeros() fonk.ları ile aynı sonuca ulaşmak da mümkündür.\n",
    "dizi = np.full((2,2),44)"
   ]
  },
  {
   "cell_type": "code",
   "execution_count": 54,
   "id": "f0ccc661",
   "metadata": {},
   "outputs": [
    {
     "data": {
      "text/plain": [
       "(2, 2)"
      ]
     },
     "execution_count": 54,
     "metadata": {},
     "output_type": "execute_result"
    }
   ],
   "source": [
    "dizi.shape"
   ]
  },
  {
   "cell_type": "code",
   "execution_count": 55,
   "id": "9ef8350d",
   "metadata": {},
   "outputs": [],
   "source": [
    "#diag()\n",
    "#var olan bir numpy dizisinin köşegen boyunca belirtilen değerlere sahip bir köşegen dizi oluşturur.\n",
    "#kalan yerler ise sıfır ile doldurur."
   ]
  },
  {
   "cell_type": "code",
   "execution_count": 56,
   "id": "54f389fe",
   "metadata": {},
   "outputs": [
    {
     "data": {
      "text/plain": [
       "array([0., 0.])"
      ]
     },
     "execution_count": 56,
     "metadata": {},
     "output_type": "execute_result"
    }
   ],
   "source": [
    "np.diag(veri) #köşegendeki değerleri alır."
   ]
  },
  {
   "cell_type": "code",
   "execution_count": 57,
   "id": "de27d069",
   "metadata": {},
   "outputs": [
    {
     "data": {
      "text/plain": [
       "array([[0., 0.],\n",
       "       [0., 0.]])"
      ]
     },
     "execution_count": 57,
     "metadata": {},
     "output_type": "execute_result"
    }
   ],
   "source": [
    "np.diag(np.diag(veri)) #köşegen dışındaki verileri sıfırlar."
   ]
  },
  {
   "cell_type": "code",
   "execution_count": 58,
   "id": "b7ec76d9",
   "metadata": {},
   "outputs": [],
   "source": [
    "#eye()\n",
    "#istenilen boyut ve veri türüne göre belirtilen köşegen boyunca bir değerleri ile bir köşegen dizisi oluşturur.\n",
    "#kalan yerleri ise sıfırla doldurur."
   ]
  },
  {
   "cell_type": "code",
   "execution_count": 59,
   "id": "ea9e8442",
   "metadata": {},
   "outputs": [],
   "source": [
    "veri = np.eye(3,3) #3 satır 3 sütun ile köşegen dizisi oluşturduk"
   ]
  },
  {
   "cell_type": "code",
   "execution_count": 60,
   "id": "4a63c0ef",
   "metadata": {},
   "outputs": [
    {
     "data": {
      "text/plain": [
       "array([[1., 0., 0.],\n",
       "       [0., 1., 0.],\n",
       "       [0., 0., 1.]])"
      ]
     },
     "execution_count": 60,
     "metadata": {},
     "output_type": "execute_result"
    }
   ],
   "source": [
    "veri"
   ]
  },
  {
   "cell_type": "code",
   "execution_count": 61,
   "id": "7509f5d9",
   "metadata": {},
   "outputs": [
    {
     "data": {
      "text/plain": [
       "(3, 3)"
      ]
     },
     "execution_count": 61,
     "metadata": {},
     "output_type": "execute_result"
    }
   ],
   "source": [
    "veri.shape"
   ]
  },
  {
   "cell_type": "code",
   "execution_count": 62,
   "id": "907ae13e",
   "metadata": {},
   "outputs": [],
   "source": [
    "#arange()\n",
    "#istenilen başlangıç, bitiş ve artış değerleri arasında eşit aralıklı değerlere sahip bir dizi oluşturur.\n",
    "veri = np.arange(start=3,stop=11,step=2) #3'ten 11'e ikişer artan bir dizi"
   ]
  },
  {
   "cell_type": "code",
   "execution_count": 63,
   "id": "7bca43fb",
   "metadata": {},
   "outputs": [
    {
     "data": {
      "text/plain": [
       "array([3, 5, 7, 9])"
      ]
     },
     "execution_count": 63,
     "metadata": {},
     "output_type": "execute_result"
    }
   ],
   "source": [
    "veri"
   ]
  },
  {
   "cell_type": "code",
   "execution_count": 64,
   "id": "5f1142e5",
   "metadata": {},
   "outputs": [],
   "source": [
    "#linspace()\n",
    "#istenilen sayıda elementle, belirtilen başlangıç ve bitiş değerleri arasında eşit aralıklı değerlere sahip dizi oluşuturur.\n",
    "veri = np.linspace(start=3,stop=11,num=5) #3'ten 11'e kadar 5 değer içeren dizi"
   ]
  },
  {
   "cell_type": "code",
   "execution_count": 65,
   "id": "7d7cf989",
   "metadata": {},
   "outputs": [
    {
     "data": {
      "text/plain": [
       "array([ 3.,  5.,  7.,  9., 11.])"
      ]
     },
     "execution_count": 65,
     "metadata": {},
     "output_type": "execute_result"
    }
   ],
   "source": [
    "veri"
   ]
  },
  {
   "cell_type": "code",
   "execution_count": 66,
   "id": "24111d98",
   "metadata": {},
   "outputs": [],
   "source": [
    "#random.rand()\n",
    "#0 ile 1 arasında eşit olarak dağıtılan rastgele sayılarla bir dizi oluşturur.\n",
    "#random.seed() fonksiyonu rastgele üretilen sayıyı sabitler.\n",
    "#rastgele üretilen sayının sabitlenmesi, rastgele üretilen değerlerin her çağırdığımızda aynı sayıyı üretmesine yarar."
   ]
  },
  {
   "cell_type": "code",
   "execution_count": 67,
   "id": "53d84e14",
   "metadata": {},
   "outputs": [],
   "source": [
    "np.random.seed(0) #0 değerli sabitledik"
   ]
  },
  {
   "cell_type": "code",
   "execution_count": 68,
   "id": "d7d6a982",
   "metadata": {},
   "outputs": [],
   "source": [
    "veri = np.random.rand(2,3)"
   ]
  },
  {
   "cell_type": "code",
   "execution_count": 69,
   "id": "33f1b522",
   "metadata": {},
   "outputs": [
    {
     "data": {
      "text/plain": [
       "array([[0.5488135 , 0.71518937, 0.60276338],\n",
       "       [0.54488318, 0.4236548 , 0.64589411]])"
      ]
     },
     "execution_count": 69,
     "metadata": {},
     "output_type": "execute_result"
    }
   ],
   "source": [
    "veri"
   ]
  },
  {
   "cell_type": "code",
   "execution_count": 70,
   "id": "1a8def66",
   "metadata": {},
   "outputs": [
    {
     "data": {
      "text/plain": [
       "(2, 3)"
      ]
     },
     "execution_count": 70,
     "metadata": {},
     "output_type": "execute_result"
    }
   ],
   "source": [
    "veri.shape"
   ]
  },
  {
   "cell_type": "code",
   "execution_count": 71,
   "id": "63197c78",
   "metadata": {},
   "outputs": [],
   "source": [
    "#empty()\n",
    "#girdileri başlatmadan belirtilen şekil ve türde yeni bir dizi oluşturur.\n",
    "#genellikle performans kritik olduğunda büyük diziler için kullanılır ve değerler daha sonra doldurulur.\n",
    "veri = np.empty([2,2]) #2 satır ve 2 sütundan oluşan, rastgele değerler ile dolu biz dizi."
   ]
  },
  {
   "cell_type": "code",
   "execution_count": 72,
   "id": "ea70dc2b",
   "metadata": {},
   "outputs": [
    {
     "data": {
      "text/plain": [
       "(2, 2)"
      ]
     },
     "execution_count": 72,
     "metadata": {},
     "output_type": "execute_result"
    }
   ],
   "source": [
    "veri.shape"
   ]
  },
  {
   "cell_type": "code",
   "execution_count": 73,
   "id": "a63f09b7",
   "metadata": {},
   "outputs": [],
   "source": [
    "#VAR OLAN PYTHON LİST VEYA TUPLE DOSYALARINI KULLANARAK NUMPY DİZİSİ OLUŞTURMA"
   ]
  },
  {
   "cell_type": "code",
   "execution_count": 74,
   "id": "f80dd245",
   "metadata": {},
   "outputs": [],
   "source": [
    "#array()"
   ]
  },
  {
   "cell_type": "code",
   "execution_count": 75,
   "id": "2eaaa256",
   "metadata": {},
   "outputs": [],
   "source": [
    "veri=np.array([1,2,3]) #python list nesnesnden oluşan basit bir numpy dizisi\n",
    "#list köşeli parantez ile gösterilir ve değerleri değişebilir özelliktedir"
   ]
  },
  {
   "cell_type": "code",
   "execution_count": 76,
   "id": "091bf125",
   "metadata": {},
   "outputs": [
    {
     "data": {
      "text/plain": [
       "array([1, 2, 3])"
      ]
     },
     "execution_count": 76,
     "metadata": {},
     "output_type": "execute_result"
    }
   ],
   "source": [
    "veri"
   ]
  },
  {
   "cell_type": "code",
   "execution_count": 84,
   "id": "9d08047d",
   "metadata": {
    "scrolled": true
   },
   "outputs": [],
   "source": [
    "veri=np.array([[1,2],[3,4],[5,6]]) #2 python listesi içeren bir numpy dizisi"
   ]
  },
  {
   "cell_type": "code",
   "execution_count": 85,
   "id": "9c1ffb86",
   "metadata": {},
   "outputs": [
    {
     "data": {
      "text/plain": [
       "array([[1, 2],\n",
       "       [3, 4],\n",
       "       [5, 6]])"
      ]
     },
     "execution_count": 85,
     "metadata": {},
     "output_type": "execute_result"
    }
   ],
   "source": [
    "veri"
   ]
  },
  {
   "cell_type": "code",
   "execution_count": 86,
   "id": "6f0e059a",
   "metadata": {},
   "outputs": [],
   "source": [
    "veri = np.array((1,2,3)) #python tuple nesnesinden oluşan basit bir numpy dizisi\n",
    "#tuple yuvarlak parantez ile gösterilir ve değerleri sabit(değişmez) özelliktedir"
   ]
  },
  {
   "cell_type": "code",
   "execution_count": 87,
   "id": "7eb8cc76",
   "metadata": {},
   "outputs": [
    {
     "data": {
      "text/plain": [
       "array([1, 2, 3])"
      ]
     },
     "execution_count": 87,
     "metadata": {},
     "output_type": "execute_result"
    }
   ],
   "source": [
    "veri"
   ]
  }
 ],
 "metadata": {
  "kernelspec": {
   "display_name": "Python 3 (ipykernel)",
   "language": "python",
   "name": "python3"
  },
  "language_info": {
   "codemirror_mode": {
    "name": "ipython",
    "version": 3
   },
   "file_extension": ".py",
   "mimetype": "text/x-python",
   "name": "python",
   "nbconvert_exporter": "python",
   "pygments_lexer": "ipython3",
   "version": "3.10.9"
  }
 },
 "nbformat": 4,
 "nbformat_minor": 5
}
