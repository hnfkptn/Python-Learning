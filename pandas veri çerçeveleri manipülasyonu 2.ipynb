{
 "cells": [
  {
   "cell_type": "code",
   "execution_count": 49,
   "id": "6c9573c2",
   "metadata": {},
   "outputs": [],
   "source": [
    "import pandas as pd\n",
    "import numpy as np"
   ]
  },
  {
   "cell_type": "code",
   "execution_count": 50,
   "id": "f3accd19",
   "metadata": {},
   "outputs": [],
   "source": [
    "ytVeri = {\"cinsiyet\":[\"e\",\"k\",\"k\",\"e\",\"k\",\"e\"],\"mezun\":[\"lisans\",\"lisans\",\"master\",\"lisans\",\"ön lisans\",\"master\"],\"yaş\":[19,24,32,26,21,45],\"aboneSayısı\":[20000,25000,18000,40000,35000,8000]}"
   ]
  },
  {
   "cell_type": "code",
   "execution_count": 51,
   "id": "e635c4e7",
   "metadata": {},
   "outputs": [
    {
     "data": {
      "text/plain": [
       "{'cinsiyet': ['e', 'k', 'k', 'e', 'k', 'e'],\n",
       " 'mezun': ['lisans', 'lisans', 'master', 'lisans', 'ön lisans', 'master'],\n",
       " 'yaş': [19, 24, 32, 26, 21, 45],\n",
       " 'aboneSayısı': [20000, 25000, 18000, 40000, 35000, 8000]}"
      ]
     },
     "execution_count": 51,
     "metadata": {},
     "output_type": "execute_result"
    }
   ],
   "source": [
    "ytVeri"
   ]
  },
  {
   "cell_type": "code",
   "execution_count": 52,
   "id": "66cb1216",
   "metadata": {},
   "outputs": [],
   "source": [
    "ytv = pd.DataFrame(ytVeri)"
   ]
  },
  {
   "cell_type": "code",
   "execution_count": 53,
   "id": "05f9257e",
   "metadata": {},
   "outputs": [
    {
     "data": {
      "text/html": [
       "<div>\n",
       "<style scoped>\n",
       "    .dataframe tbody tr th:only-of-type {\n",
       "        vertical-align: middle;\n",
       "    }\n",
       "\n",
       "    .dataframe tbody tr th {\n",
       "        vertical-align: top;\n",
       "    }\n",
       "\n",
       "    .dataframe thead th {\n",
       "        text-align: right;\n",
       "    }\n",
       "</style>\n",
       "<table border=\"1\" class=\"dataframe\">\n",
       "  <thead>\n",
       "    <tr style=\"text-align: right;\">\n",
       "      <th></th>\n",
       "      <th>cinsiyet</th>\n",
       "      <th>mezun</th>\n",
       "      <th>yaş</th>\n",
       "      <th>aboneSayısı</th>\n",
       "    </tr>\n",
       "  </thead>\n",
       "  <tbody>\n",
       "    <tr>\n",
       "      <th>0</th>\n",
       "      <td>e</td>\n",
       "      <td>lisans</td>\n",
       "      <td>19</td>\n",
       "      <td>20000</td>\n",
       "    </tr>\n",
       "    <tr>\n",
       "      <th>1</th>\n",
       "      <td>k</td>\n",
       "      <td>lisans</td>\n",
       "      <td>24</td>\n",
       "      <td>25000</td>\n",
       "    </tr>\n",
       "    <tr>\n",
       "      <th>2</th>\n",
       "      <td>k</td>\n",
       "      <td>master</td>\n",
       "      <td>32</td>\n",
       "      <td>18000</td>\n",
       "    </tr>\n",
       "    <tr>\n",
       "      <th>3</th>\n",
       "      <td>e</td>\n",
       "      <td>lisans</td>\n",
       "      <td>26</td>\n",
       "      <td>40000</td>\n",
       "    </tr>\n",
       "    <tr>\n",
       "      <th>4</th>\n",
       "      <td>k</td>\n",
       "      <td>ön lisans</td>\n",
       "      <td>21</td>\n",
       "      <td>35000</td>\n",
       "    </tr>\n",
       "    <tr>\n",
       "      <th>5</th>\n",
       "      <td>e</td>\n",
       "      <td>master</td>\n",
       "      <td>45</td>\n",
       "      <td>8000</td>\n",
       "    </tr>\n",
       "  </tbody>\n",
       "</table>\n",
       "</div>"
      ],
      "text/plain": [
       "  cinsiyet      mezun  yaş  aboneSayısı\n",
       "0        e     lisans   19        20000\n",
       "1        k     lisans   24        25000\n",
       "2        k     master   32        18000\n",
       "3        e     lisans   26        40000\n",
       "4        k  ön lisans   21        35000\n",
       "5        e     master   45         8000"
      ]
     },
     "execution_count": 53,
     "metadata": {},
     "output_type": "execute_result"
    }
   ],
   "source": [
    "ytv #bu veri çerçevesinde ön lisans, lisans ve master grupları oluşmuştur."
   ]
  },
  {
   "cell_type": "code",
   "execution_count": 54,
   "id": "6a4df3be",
   "metadata": {
    "scrolled": true
   },
   "outputs": [
    {
     "data": {
      "text/html": [
       "<div>\n",
       "<style scoped>\n",
       "    .dataframe tbody tr th:only-of-type {\n",
       "        vertical-align: middle;\n",
       "    }\n",
       "\n",
       "    .dataframe tbody tr th {\n",
       "        vertical-align: top;\n",
       "    }\n",
       "\n",
       "    .dataframe thead th {\n",
       "        text-align: right;\n",
       "    }\n",
       "</style>\n",
       "<table border=\"1\" class=\"dataframe\">\n",
       "  <thead>\n",
       "    <tr style=\"text-align: right;\">\n",
       "      <th></th>\n",
       "      <th>yaş</th>\n",
       "      <th>aboneSayısı</th>\n",
       "    </tr>\n",
       "    <tr>\n",
       "      <th>mezun</th>\n",
       "      <th></th>\n",
       "      <th></th>\n",
       "    </tr>\n",
       "  </thead>\n",
       "  <tbody>\n",
       "    <tr>\n",
       "      <th>lisans</th>\n",
       "      <td>23.0</td>\n",
       "      <td>28333.333333</td>\n",
       "    </tr>\n",
       "    <tr>\n",
       "      <th>master</th>\n",
       "      <td>38.5</td>\n",
       "      <td>13000.000000</td>\n",
       "    </tr>\n",
       "    <tr>\n",
       "      <th>ön lisans</th>\n",
       "      <td>21.0</td>\n",
       "      <td>35000.000000</td>\n",
       "    </tr>\n",
       "  </tbody>\n",
       "</table>\n",
       "</div>"
      ],
      "text/plain": [
       "            yaş   aboneSayısı\n",
       "mezun                        \n",
       "lisans     23.0  28333.333333\n",
       "master     38.5  13000.000000\n",
       "ön lisans  21.0  35000.000000"
      ]
     },
     "execution_count": 54,
     "metadata": {},
     "output_type": "execute_result"
    }
   ],
   "source": [
    "ytv.groupby(\"mezun\").mean([2,3]) #ortak mezuniyet değerine sahip verilerin belirtilen indeksteki değerlerinin ortalamasını verir\n",
    "#indekslediğimiz sütunlar sayı değeri olmalıdır, string değil."
   ]
  },
  {
   "cell_type": "code",
   "execution_count": 62,
   "id": "0eb0a7a2",
   "metadata": {},
   "outputs": [
    {
     "data": {
      "text/html": [
       "<div>\n",
       "<style scoped>\n",
       "    .dataframe tbody tr th:only-of-type {\n",
       "        vertical-align: middle;\n",
       "    }\n",
       "\n",
       "    .dataframe tbody tr th {\n",
       "        vertical-align: top;\n",
       "    }\n",
       "\n",
       "    .dataframe thead th {\n",
       "        text-align: right;\n",
       "    }\n",
       "</style>\n",
       "<table border=\"1\" class=\"dataframe\">\n",
       "  <thead>\n",
       "    <tr style=\"text-align: right;\">\n",
       "      <th></th>\n",
       "      <th>yaş</th>\n",
       "      <th>aboneSayısı</th>\n",
       "    </tr>\n",
       "  </thead>\n",
       "  <tbody>\n",
       "    <tr>\n",
       "      <th>sum</th>\n",
       "      <td>167.000000</td>\n",
       "      <td>146000.000000</td>\n",
       "    </tr>\n",
       "    <tr>\n",
       "      <th>mean</th>\n",
       "      <td>27.833333</td>\n",
       "      <td>24333.333333</td>\n",
       "    </tr>\n",
       "    <tr>\n",
       "      <th>std</th>\n",
       "      <td>9.537645</td>\n",
       "      <td>11707.547423</td>\n",
       "    </tr>\n",
       "  </tbody>\n",
       "</table>\n",
       "</div>"
      ],
      "text/plain": [
       "             yaş    aboneSayısı\n",
       "sum   167.000000  146000.000000\n",
       "mean   27.833333   24333.333333\n",
       "std     9.537645   11707.547423"
      ]
     },
     "execution_count": 62,
     "metadata": {},
     "output_type": "execute_result"
    }
   ],
   "source": [
    "ytv.iloc[:,2:].apply([np.sum,np.mean,np.std])"
   ]
  },
  {
   "cell_type": "code",
   "execution_count": 64,
   "id": "5767d614",
   "metadata": {},
   "outputs": [],
   "source": [
    "#appyl() metodu ile kendi tanımladığımız fonksiyonları kullanabiliriz.\n",
    "#axis = 1 her satır axis = 0 her bir sütun için işlem yapar. "
   ]
  },
  {
   "cell_type": "code",
   "execution_count": 65,
   "id": "7b26478d",
   "metadata": {},
   "outputs": [],
   "source": [
    "#Bir filtreleme örneği\n",
    "def sart(vektor):\n",
    "    return vektor[\"yaş\"] < 28 and vektor[\"aboneSayısı\"] > 20000"
   ]
  },
  {
   "cell_type": "code",
   "execution_count": 68,
   "id": "301b1fa7",
   "metadata": {
    "scrolled": true
   },
   "outputs": [
    {
     "data": {
      "text/html": [
       "<div>\n",
       "<style scoped>\n",
       "    .dataframe tbody tr th:only-of-type {\n",
       "        vertical-align: middle;\n",
       "    }\n",
       "\n",
       "    .dataframe tbody tr th {\n",
       "        vertical-align: top;\n",
       "    }\n",
       "\n",
       "    .dataframe thead th {\n",
       "        text-align: right;\n",
       "    }\n",
       "</style>\n",
       "<table border=\"1\" class=\"dataframe\">\n",
       "  <thead>\n",
       "    <tr style=\"text-align: right;\">\n",
       "      <th></th>\n",
       "      <th>cinsiyet</th>\n",
       "      <th>mezun</th>\n",
       "      <th>yaş</th>\n",
       "      <th>aboneSayısı</th>\n",
       "    </tr>\n",
       "  </thead>\n",
       "  <tbody>\n",
       "    <tr>\n",
       "      <th>1</th>\n",
       "      <td>k</td>\n",
       "      <td>lisans</td>\n",
       "      <td>24</td>\n",
       "      <td>25000</td>\n",
       "    </tr>\n",
       "    <tr>\n",
       "      <th>3</th>\n",
       "      <td>e</td>\n",
       "      <td>lisans</td>\n",
       "      <td>26</td>\n",
       "      <td>40000</td>\n",
       "    </tr>\n",
       "    <tr>\n",
       "      <th>4</th>\n",
       "      <td>k</td>\n",
       "      <td>ön lisans</td>\n",
       "      <td>21</td>\n",
       "      <td>35000</td>\n",
       "    </tr>\n",
       "  </tbody>\n",
       "</table>\n",
       "</div>"
      ],
      "text/plain": [
       "  cinsiyet      mezun  yaş  aboneSayısı\n",
       "1        k     lisans   24        25000\n",
       "3        e     lisans   26        40000\n",
       "4        k  ön lisans   21        35000"
      ]
     },
     "execution_count": 68,
     "metadata": {},
     "output_type": "execute_result"
    }
   ],
   "source": [
    "ytv[ytv.apply([sart],axis=1).values] "
   ]
  }
 ],
 "metadata": {
  "kernelspec": {
   "display_name": "Python 3 (ipykernel)",
   "language": "python",
   "name": "python3"
  },
  "language_info": {
   "codemirror_mode": {
    "name": "ipython",
    "version": 3
   },
   "file_extension": ".py",
   "mimetype": "text/x-python",
   "name": "python",
   "nbconvert_exporter": "python",
   "pygments_lexer": "ipython3",
   "version": "3.10.9"
  }
 },
 "nbformat": 4,
 "nbformat_minor": 5
}
