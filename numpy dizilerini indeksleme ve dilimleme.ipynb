{
 "cells": [
  {
   "cell_type": "code",
   "execution_count": 8,
   "id": "a014cc93",
   "metadata": {},
   "outputs": [],
   "source": [
    "#numpy dizilerinin öğelerine ve alt dizilerine, python listelerinde de kullanılan köşeli parantez kullanılarak erişilir."
   ]
  },
  {
   "cell_type": "code",
   "execution_count": 9,
   "id": "95735623",
   "metadata": {},
   "outputs": [],
   "source": [
    "#TEK BOYUTLU DİZİLERDE İNDEKSLEME VE DİLİMLEME OPERASYONLARI"
   ]
  },
  {
   "cell_type": "code",
   "execution_count": 10,
   "id": "6cb8b2f8",
   "metadata": {},
   "outputs": [],
   "source": [
    "import numpy as np"
   ]
  },
  {
   "cell_type": "code",
   "execution_count": 11,
   "id": "3445a951",
   "metadata": {},
   "outputs": [],
   "source": [
    "veri = np.linspace(start=9,stop=99,num=10) #9 ve 99 dahil sayılardır."
   ]
  },
  {
   "cell_type": "code",
   "execution_count": 12,
   "id": "013d9b9b",
   "metadata": {},
   "outputs": [
    {
     "data": {
      "text/plain": [
       "array([ 9., 19., 29., 39., 49., 59., 69., 79., 89., 99.])"
      ]
     },
     "execution_count": 12,
     "metadata": {},
     "output_type": "execute_result"
    }
   ],
   "source": [
    "veri"
   ]
  },
  {
   "cell_type": "code",
   "execution_count": 13,
   "id": "056d0155",
   "metadata": {},
   "outputs": [
    {
     "data": {
      "text/plain": [
       "9.0"
      ]
     },
     "execution_count": 13,
     "metadata": {},
     "output_type": "execute_result"
    }
   ],
   "source": [
    "veri[0] #verinin ilk elemanı"
   ]
  },
  {
   "cell_type": "code",
   "execution_count": 14,
   "id": "2d79b607",
   "metadata": {},
   "outputs": [
    {
     "data": {
      "text/plain": [
       "99.0"
      ]
     },
     "execution_count": 14,
     "metadata": {},
     "output_type": "execute_result"
    }
   ],
   "source": [
    "veri[-1] #verinin son elemanı"
   ]
  },
  {
   "cell_type": "code",
   "execution_count": 15,
   "id": "27872d6e",
   "metadata": {},
   "outputs": [
    {
     "data": {
      "text/plain": [
       "29.0"
      ]
     },
     "execution_count": 15,
     "metadata": {},
     "output_type": "execute_result"
    }
   ],
   "source": [
    "veri[2] #verinin üçüncü elemanı"
   ]
  },
  {
   "cell_type": "code",
   "execution_count": 16,
   "id": "e63a45b0",
   "metadata": {},
   "outputs": [
    {
     "data": {
      "text/plain": [
       "array([29., 39., 49.])"
      ]
     },
     "execution_count": 16,
     "metadata": {},
     "output_type": "execute_result"
    }
   ],
   "source": [
    "veri[2:5] #verinin ikinci, üçüncü, dördüncü indeksteki elemanları (iki dahil beş dahil değil)"
   ]
  },
  {
   "cell_type": "code",
   "execution_count": 17,
   "id": "6e8dccc4",
   "metadata": {},
   "outputs": [
    {
     "data": {
      "text/plain": [
       "array([ 9., 29., 49.])"
      ]
     },
     "execution_count": 17,
     "metadata": {},
     "output_type": "execute_result"
    }
   ],
   "source": [
    "veri[0:6:2] #0'dan 6'ya ikişer adım şeklinde ilerleyen indekslerin elemanları (örnekte 0,2,4,6 numaralı indeksleri yazar)"
   ]
  },
  {
   "cell_type": "code",
   "execution_count": 18,
   "id": "18bfb65a",
   "metadata": {},
   "outputs": [],
   "source": [
    "#ÇOK BOYUTLU DİZİLERDE İNDEKSLEME VE DİLİMLEME OPERASYONLARI"
   ]
  },
  {
   "cell_type": "code",
   "execution_count": 19,
   "id": "652b8dd6",
   "metadata": {},
   "outputs": [],
   "source": [
    "veri = np.array([[1,2,3,4],[5,6,7,8],[9,10,11,12]])"
   ]
  },
  {
   "cell_type": "code",
   "execution_count": 20,
   "id": "4b35155d",
   "metadata": {},
   "outputs": [
    {
     "data": {
      "text/plain": [
       "array([[ 1,  2,  3,  4],\n",
       "       [ 5,  6,  7,  8],\n",
       "       [ 9, 10, 11, 12]])"
      ]
     },
     "execution_count": 20,
     "metadata": {},
     "output_type": "execute_result"
    }
   ],
   "source": [
    "veri"
   ]
  },
  {
   "cell_type": "code",
   "execution_count": 21,
   "id": "d85706b8",
   "metadata": {},
   "outputs": [
    {
     "data": {
      "text/plain": [
       "(3, 4)"
      ]
     },
     "execution_count": 21,
     "metadata": {},
     "output_type": "execute_result"
    }
   ],
   "source": [
    "veri.shape #3 satır 4 sütunlu"
   ]
  },
  {
   "cell_type": "code",
   "execution_count": 22,
   "id": "05d72024",
   "metadata": {},
   "outputs": [
    {
     "data": {
      "text/plain": [
       "array([1, 5, 9])"
      ]
     },
     "execution_count": 22,
     "metadata": {},
     "output_type": "execute_result"
    }
   ],
   "source": [
    "veri[:,0] #verinin ilk sütunu"
   ]
  },
  {
   "cell_type": "code",
   "execution_count": 23,
   "id": "e526e44b",
   "metadata": {},
   "outputs": [
    {
     "data": {
      "text/plain": [
       "array([ 3,  7, 11])"
      ]
     },
     "execution_count": 23,
     "metadata": {},
     "output_type": "execute_result"
    }
   ],
   "source": [
    "veri[:,2] #verinin ikinci indeks sütunu"
   ]
  },
  {
   "cell_type": "code",
   "execution_count": 24,
   "id": "7fc51615",
   "metadata": {},
   "outputs": [
    {
     "data": {
      "text/plain": [
       "array([1, 2, 3, 4])"
      ]
     },
     "execution_count": 24,
     "metadata": {},
     "output_type": "execute_result"
    }
   ],
   "source": [
    "veri[0,:] #verinin ilk satırı"
   ]
  },
  {
   "cell_type": "code",
   "execution_count": 25,
   "id": "c159ecf6",
   "metadata": {},
   "outputs": [
    {
     "data": {
      "text/plain": [
       "array([ 9, 10, 11, 12])"
      ]
     },
     "execution_count": 25,
     "metadata": {},
     "output_type": "execute_result"
    }
   ],
   "source": [
    "veri[2,:] #verinin ikinci indeksteki satırı"
   ]
  },
  {
   "cell_type": "code",
   "execution_count": 35,
   "id": "a7716695",
   "metadata": {},
   "outputs": [
    {
     "data": {
      "text/plain": [
       "12"
      ]
     },
     "execution_count": 35,
     "metadata": {},
     "output_type": "execute_result"
    }
   ],
   "source": [
    "veri[2,3] #verinin üçüncü satır dördüncü sütunundaki değeri"
   ]
  },
  {
   "cell_type": "code",
   "execution_count": 36,
   "id": "cfcfe888",
   "metadata": {},
   "outputs": [
    {
     "data": {
      "text/plain": [
       "array([[ 1,  4],\n",
       "       [ 9, 12]])"
      ]
     },
     "execution_count": 36,
     "metadata": {},
     "output_type": "execute_result"
    }
   ],
   "source": [
    "veri[0:3:2,0:4:3] #verinin 0. satırdan son indekse kadar 2 adım, 0. sütundan son indekse kadar 3 adımdaki değerleri\n",
    "#yani; satırları ikişer ikişer sütunları üçer üçer ilerler.\n",
    "#0. indeks ve 2. indeksteki SATIRLAR ile 0. indeks ve 3. indeksteki SÜTUNLARIN kesiştiği indekslerdeki değerlerdir."
   ]
  }
 ],
 "metadata": {
  "kernelspec": {
   "display_name": "Python 3 (ipykernel)",
   "language": "python",
   "name": "python3"
  },
  "language_info": {
   "codemirror_mode": {
    "name": "ipython",
    "version": 3
   },
   "file_extension": ".py",
   "mimetype": "text/x-python",
   "name": "python",
   "nbconvert_exporter": "python",
   "pygments_lexer": "ipython3",
   "version": "3.10.9"
  }
 },
 "nbformat": 4,
 "nbformat_minor": 5
}
